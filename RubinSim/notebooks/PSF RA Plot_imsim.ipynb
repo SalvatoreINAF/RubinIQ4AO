{
 "cells": [
  {
   "cell_type": "code",
   "execution_count": null,
   "id": "75f08671-b090-4a11-8477-dbf26b97dce8",
   "metadata": {},
   "outputs": [],
   "source": [
    "# import lsst.summit.extras"
   ]
  },
  {
   "cell_type": "code",
   "execution_count": null,
   "id": "cd79d606-fe07-4888-b618-e1f4fcbd5ed9",
   "metadata": {},
   "outputs": [],
   "source": [
    "# lsst.summit.__file__"
   ]
  },
  {
   "cell_type": "code",
   "execution_count": null,
   "id": "e9307715-dff6-46d5-b468-f9653f3a1870",
   "metadata": {},
   "outputs": [],
   "source": [
    "%load_ext autoreload\n",
    "%autoreload 2"
   ]
  },
  {
   "cell_type": "code",
   "execution_count": null,
   "id": "97d8c90b-77c4-4334-b01a-042a94c8e2ba",
   "metadata": {},
   "outputs": [],
   "source": [
    "from lsst.summit.extras.plotting.psfPlotting import makeAzElPlot, makeTableFromSourceCatalogs, makeFocalPlanePlot, makeEquatorialPlot\n",
    "from lsst.obs.lsst import LsstComCam, LsstCam\n",
    "import matplotlib.pyplot as plt"
   ]
  },
  {
   "cell_type": "code",
   "execution_count": null,
   "id": "8c9984a8-0cc6-4d98-8bf9-122978100f79",
   "metadata": {},
   "outputs": [],
   "source": [
    "from lsst.daf.butler import Butler\n",
    "import numpy as np"
   ]
  },
  {
   "cell_type": "markdown",
   "id": "d07fc1d2-1e4c-4b0c-876a-72fca8ff4fa8",
   "metadata": {},
   "source": [
    "## set up"
   ]
  },
  {
   "cell_type": "code",
   "execution_count": null,
   "id": "72463c62-61b0-49d5-8ca4-31f2473dece5",
   "metadata": {},
   "outputs": [],
   "source": [
    "import sys\n",
    "# sys.path.append(\"../../notebooks/\")\n",
    "sys.path.append(\"/sdf/data/rubin/shared/image_quality/imsim/notebooks/\")                #file with convertion between seqnum and collection\n",
    "from collection_dictionary_shared import collection_dictionary"
   ]
  },
  {
   "cell_type": "code",
   "execution_count": null,
   "id": "828632d8-6245-4c3b-a109-abc527f1e35b",
   "metadata": {},
   "outputs": [],
   "source": [
    "folder = '/sdf/data/rubin/shared/image_quality/imsim/'\n",
    "#Define the butler data configuration and collection (una tantum )\n",
    "config = folder+'repo'\n",
    "seqnum_base = 5023071800000\n",
    "collection_dict = collection_dictionary()"
   ]
  },
  {
   "cell_type": "markdown",
   "id": "1542e0dd-075b-4941-9a50-ff63f9e82393",
   "metadata": {
    "execution": {
     "iopub.execute_input": "2024-11-14T19:31:23.756888Z",
     "iopub.status.busy": "2024-11-14T19:31:23.756547Z",
     "iopub.status.idle": "2024-11-14T19:31:23.803245Z",
     "shell.execute_reply": "2024-11-14T19:31:23.802731Z",
     "shell.execute_reply.started": "2024-11-14T19:31:23.756825Z"
    }
   },
   "source": [
    "# sequence number"
   ]
  },
  {
   "cell_type": "code",
   "execution_count": null,
   "id": "24d717fc-6e77-48aa-bbca-4a2683746ad0",
   "metadata": {},
   "outputs": [],
   "source": [
    "seqnum = 155\n",
    "visitid_complete = seqnum+seqnum_base\n",
    "collections = collection_dict[visitid_complete]\n",
    "collections"
   ]
  },
  {
   "cell_type": "code",
   "execution_count": null,
   "id": "cf03c66c-a6db-4282-b95f-d53ba01af0d9",
   "metadata": {},
   "outputs": [],
   "source": [
    "collection_dict[visitid_complete]"
   ]
  },
  {
   "cell_type": "code",
   "execution_count": null,
   "id": "6efb189c-39b1-4782-8e97-abe83520b73b",
   "metadata": {},
   "outputs": [],
   "source": [
    "butler = Butler(config, collections=collections)"
   ]
  },
  {
   "cell_type": "code",
   "execution_count": null,
   "id": "0a0f5310-f8d8-445c-994f-7bcfccc151dd",
   "metadata": {},
   "outputs": [],
   "source": [
    "# butler.collections.query_info(collections[0], include_summary=True)"
   ]
  },
  {
   "cell_type": "code",
   "execution_count": null,
   "id": "e27913e7-7884-438b-924f-6be70b3a038c",
   "metadata": {},
   "outputs": [],
   "source": [
    "registry = butler.registry"
   ]
  },
  {
   "cell_type": "code",
   "execution_count": null,
   "id": "7d7cf163-81ef-4172-8a4a-ced1cf49645a",
   "metadata": {},
   "outputs": [],
   "source": [
    "# for dt in sorted(registry.queryDatasetTypes()):\n",
    "#     print(dt)"
   ]
  },
  {
   "cell_type": "code",
   "execution_count": null,
   "id": "24fab087-4842-4e21-8916-95943ba73330",
   "metadata": {},
   "outputs": [],
   "source": [
    "postisr = list(registry.queryDatasets('icSrc', collections=collections, detector=90))\n",
    "postisr\n",
    "#exposure_ids = np.array([data.dataId['exposure'] for data in postisr])\n",
    "# exposure_ids"
   ]
  },
  {
   "cell_type": "code",
   "execution_count": null,
   "id": "57d609c8-619c-4d3c-b679-1cd019b0fa8b",
   "metadata": {},
   "outputs": [],
   "source": [
    "icSrcs = {}\n",
    "visit_id=postisr[0].dataId['visit']\n",
    "for i in range(189):\n",
    "    try:\n",
    "        icSrcs[i] = butler.get(\"icSrc\", dataId={\"visit\":visit_id, \"detector\":i})\n",
    "    except:\n",
    "        continue\n",
    "visitInfo = butler.get(\"postISRCCD.visitInfo\", dataId={\"exposure\":visit_id, \"detector\":94})\n",
    "table = makeTableFromSourceCatalogs(icSrcs, visitInfo)"
   ]
  },
  {
   "cell_type": "code",
   "execution_count": null,
   "id": "02e08476-a6e6-4f3e-b6e0-a9ff616940db",
   "metadata": {},
   "outputs": [],
   "source": [
    "# icSrcs[90]"
   ]
  },
  {
   "cell_type": "code",
   "execution_count": null,
   "id": "f6570fc8-2230-4a6a-b696-6cd98ee07a87",
   "metadata": {},
   "outputs": [],
   "source": [
    "table.meta['rotTelPos']*180/np.pi"
   ]
  },
  {
   "cell_type": "code",
   "execution_count": null,
   "id": "ebe1ef26-1b04-433d-9ecf-5c4d0753a8c1",
   "metadata": {},
   "outputs": [],
   "source": [
    "table.meta['rotSkyPos']*180/np.pi"
   ]
  },
  {
   "cell_type": "code",
   "execution_count": null,
   "id": "c96ed8d6-676b-4fe2-a6dd-b38b7d3bc460",
   "metadata": {},
   "outputs": [],
   "source": [
    "camera = LsstCam().getCamera()"
   ]
  },
  {
   "cell_type": "markdown",
   "id": "0d1320d1-f2c7-4652-868e-6cfaa81f873a",
   "metadata": {},
   "source": [
    "## alt/az in mm"
   ]
  },
  {
   "cell_type": "code",
   "execution_count": null,
   "id": "ef1717bc-9291-4d9a-be9e-8af06071cb0f",
   "metadata": {},
   "outputs": [],
   "source": [
    "fig, axes = plt.subplots(nrows=2, ncols=2, figsize=(10, 9), sharex=True, sharey=True)\n",
    "makeAzElPlot(fig, axes, table, camera)\n",
    "plt.show()"
   ]
  },
  {
   "cell_type": "code",
   "execution_count": null,
   "id": "1f0ad9d2-ce0d-447c-b911-a9d15124d4dd",
   "metadata": {},
   "outputs": [],
   "source": [
    "# fig, axes = plt.subplots(nrows=2, ncols=2, figsize=(10, 9), sharex=True, sharey=True)\n",
    "# makeFocalPlanePlot(fig, axes, table, camera)\n",
    "# plt.show()"
   ]
  },
  {
   "cell_type": "code",
   "execution_count": null,
   "id": "bea1df79-feb6-4893-962d-a1757823e6b8",
   "metadata": {},
   "outputs": [],
   "source": [
    "# fig, axes = plt.subplots(nrows=2, ncols=2, figsize=(10, 9), sharex=True, sharey=True)\n",
    "# makeEquatorialPlot(fig, axes, table, camera)\n",
    "# plt.show()"
   ]
  },
  {
   "cell_type": "markdown",
   "id": "94dc9ddd-d731-459e-8b39-00588d37933d",
   "metadata": {},
   "source": [
    "# Convert mm to field angle and write output file"
   ]
  },
  {
   "cell_type": "code",
   "execution_count": null,
   "id": "885aecb0-4261-418f-8225-6f10f4d57ec3",
   "metadata": {},
   "outputs": [],
   "source": [
    "from ellipticity_util import addFieldCoords_to_Table, makeOCSPlot, read_batoid_table\n",
    "import numpy as np"
   ]
  },
  {
   "cell_type": "code",
   "execution_count": null,
   "id": "ea00751f-c13b-47c2-b99c-6557614d873a",
   "metadata": {},
   "outputs": [],
   "source": [
    "table = addFieldCoords_to_Table( table, camera, table.meta['aaRot'] )"
   ]
  },
  {
   "cell_type": "code",
   "execution_count": null,
   "id": "e11bf674-80d8-4f68-88a2-24a3c0004b5b",
   "metadata": {},
   "outputs": [],
   "source": [
    "fig, axes = plt.subplots(nrows=2, ncols=2, figsize=(10, 9), sharex=True, sharey=True)\n",
    "makeOCSPlot(fig, axes, table, camera)\n",
    "plt.show()"
   ]
  },
  {
   "cell_type": "code",
   "execution_count": null,
   "id": "b1fb0b3f-02e3-4da0-8f8b-d1c21c015ae9",
   "metadata": {},
   "outputs": [],
   "source": [
    "from astropy.io import ascii"
   ]
  },
  {
   "cell_type": "code",
   "execution_count": null,
   "id": "521bb25e-896e-4dcd-bdb4-dcb0d6bea22f",
   "metadata": {},
   "outputs": [],
   "source": [
    "outname = folder + 'rzs/ellip_maps/imsim_seq%.8d.csv'%seqnum\n",
    "# outname = '/home/r/rzanmar/coords_seq%.8d.csv'%seqnum"
   ]
  },
  {
   "cell_type": "code",
   "execution_count": null,
   "id": "d63bdcdb-4ddf-4e7b-813c-6fb499aeca54",
   "metadata": {},
   "outputs": [],
   "source": [
    "outname"
   ]
  },
  {
   "cell_type": "code",
   "execution_count": null,
   "id": "befb95b7-1655-4e71-afd7-b9d0bf773bd4",
   "metadata": {},
   "outputs": [],
   "source": [
    "ascii.write(table[ 'aa_field_x','aa_field_y','aa_Ixx','aa_Iyy','aa_Ixy', ],outname, format='csv', fast_writer=False, overwrite=True)"
   ]
  },
  {
   "cell_type": "code",
   "execution_count": null,
   "id": "2007ea8f-ca38-4163-ad28-0589ccafe7da",
   "metadata": {},
   "outputs": [],
   "source": []
  },
  {
   "cell_type": "code",
   "execution_count": null,
   "id": "8869bb6a-d43b-4368-9fa2-ea6e20a99aa9",
   "metadata": {},
   "outputs": [],
   "source": []
  },
  {
   "cell_type": "markdown",
   "id": "563d4ff2-3dac-48f1-be27-424b14b57b5c",
   "metadata": {},
   "source": [
    "# verify mm to field [deg] conversion"
   ]
  },
  {
   "cell_type": "code",
   "execution_count": null,
   "id": "05491c2f-bf3b-47fd-b75a-5d9d16223ad4",
   "metadata": {},
   "outputs": [],
   "source": [
    "hx, hy = table['x'] * 0.2 / 36, table['y'] * 0.2 / 36      # 0.2 arcsec / pix * pix / 10um -> 0.2/36 deg/mm"
   ]
  },
  {
   "cell_type": "code",
   "execution_count": null,
   "id": "91df538f-5425-434d-830e-444f80808d06",
   "metadata": {},
   "outputs": [],
   "source": [
    "hx_rot, hy_rot = table['aa_x'] * 0.2 / 36, table['aa_y'] * 0.2 / 36"
   ]
  },
  {
   "cell_type": "code",
   "execution_count": null,
   "id": "c12fc423-a3c4-480c-aca2-37fea6a8920d",
   "metadata": {},
   "outputs": [],
   "source": [
    "fig, axes = plt.subplots(nrows=1, ncols=1, figsize=(10, 9), sharex=True, sharey=True)\n",
    "plt.plot( np.sqrt( table['aa_field_x']**2+table['aa_field_y']**2), np.sqrt( (table['aa_field_x'] - hx_rot)**2 + (table['aa_field_y'] - hy_rot)**2)*3600, '.' )\n",
    "axes.set_xlabel('field radius [deg]')\n",
    "axes.set_ylabel('difference [arcsec]')\n",
    "axes.set_title('FIELD Vs. linear')\n",
    "plt.show()"
   ]
  },
  {
   "cell_type": "code",
   "execution_count": null,
   "id": "0d262bdd-7e3e-4459-80d0-b12d360c3575",
   "metadata": {},
   "outputs": [],
   "source": []
  },
  {
   "cell_type": "code",
   "execution_count": null,
   "id": "e3cea6f4-ff74-4921-9971-2d168a288097",
   "metadata": {},
   "outputs": [],
   "source": []
  },
  {
   "cell_type": "code",
   "execution_count": null,
   "id": "6536739e-3787-4e67-94d5-0927c8b43ec6",
   "metadata": {},
   "outputs": [],
   "source": []
  }
 ],
 "metadata": {
  "kernelspec": {
   "display_name": "LSST",
   "language": "python",
   "name": "lsst"
  },
  "language_info": {
   "codemirror_mode": {
    "name": "ipython",
    "version": 3
   },
   "file_extension": ".py",
   "mimetype": "text/x-python",
   "name": "python",
   "nbconvert_exporter": "python",
   "pygments_lexer": "ipython3",
   "version": "3.11.9"
  }
 },
 "nbformat": 4,
 "nbformat_minor": 5
}
