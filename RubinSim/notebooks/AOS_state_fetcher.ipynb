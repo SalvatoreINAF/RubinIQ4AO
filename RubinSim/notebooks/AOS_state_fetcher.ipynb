{
 "cells": [
  {
   "cell_type": "markdown",
   "id": "9a876f60-9665-4045-9188-848e95dc34e6",
   "metadata": {},
   "source": [
    "# ComCam : get DOF from seqNum"
   ]
  },
  {
   "cell_type": "markdown",
   "id": "24a4f59e-3861-41d6-9e52-06799de3c705",
   "metadata": {},
   "source": [
    "Runs both at USDF RSP or  Summit LSP.   Using `ts_aos_analysis` on branch  `tickets/DM-47348`: https://github.com/lsst-sitcom/ts_aos_analysis/pull/11 \n"
   ]
  },
  {
   "cell_type": "code",
   "execution_count": null,
   "id": "4f6bc4b8-4576-4828-8341-3326ee0b14b7",
   "metadata": {},
   "outputs": [],
   "source": [
    "from lsst.daf.butler import Butler\n",
    "from lsst.summit.utils.efdUtils import makeEfdClient\n",
    "from lsst.ts.aos.analysis import StateFetcher\n",
    "\n",
    "client = makeEfdClient()\n",
    "butler = Butler(\"LSSTComCam\")\n",
    "fetch = StateFetcher(butler, client)"
   ]
  },
  {
   "cell_type": "markdown",
   "id": "3e141609-f28b-43d4-86f6-628958b35a90",
   "metadata": {},
   "source": [
    "eg. for 2024-12-06 , use the in-focus exposure at the end of the closed loop from the rotator LUT test with rotator at angle 0.\n",
    "That's seqNum 414:"
   ]
  },
  {
   "cell_type": "code",
   "execution_count": null,
   "id": "e8b73912-34ed-41bc-ac5a-6bec5884e634",
   "metadata": {},
   "outputs": [],
   "source": [
    "# day_obs = 20241209\n",
    "# seq_num = 442\n",
    "# day_obs = 20241206\n",
    "# seq_num = 414\n",
    "day_obs = 20241029\n",
    "seq_num = 115\n",
    "# day_obs = 20241112\n",
    "# seq_num = 351\n",
    "dofs = fetch.get_aggregated_state(day_obs=day_obs, seq_num=seq_num)\n"
   ]
  },
  {
   "cell_type": "code",
   "execution_count": null,
   "id": "f7547ad8-df1f-4c8d-b21a-b3b8fc8896b7",
   "metadata": {},
   "outputs": [],
   "source": [
    "dofs"
   ]
  },
  {
   "cell_type": "markdown",
   "id": "02ce9896-0616-488b-8aa5-dd85d155a45d",
   "metadata": {},
   "source": [
    "convert that to bending modes: "
   ]
  },
  {
   "cell_type": "code",
   "execution_count": null,
   "id": "c5eb8452-926d-4494-adc5-7cb8865d0622",
   "metadata": {},
   "outputs": [],
   "source": [
    "rigid_keys = {\n",
    "    0: \"dZ\",\n",
    "    1: \"dX\",\n",
    "    2: \"dY\",\n",
    "    3: \"rX\",\n",
    "    4: \"rY\",\n",
    "}\n",
    "for i, val in enumerate(dofs):\n",
    "    # Print Header\n",
    "    if i == 0:\n",
    "        print(\"M2Hexapod:\")\n",
    "    elif i == 5:\n",
    "        print(\"\\ncameraHexapod:\")\n",
    "    elif i == 10:\n",
    "        print(\"\\nM1M3Bending:\")\n",
    "    elif i == 30:\n",
    "        print(\"\\nM2Bending:\")\n",
    "\n",
    "    # Print Value\n",
    "    if i < 10:\n",
    "        print(f\"  {rigid_keys[i % 5]}: {val}\")\n",
    "    else:\n",
    "        print(f\"  mode{((i - 10) % 20) + 1}: {val}\")"
   ]
  },
  {
   "cell_type": "code",
   "execution_count": null,
   "id": "5e224dfc-7fec-47f4-8893-11b72933a195",
   "metadata": {},
   "outputs": [],
   "source": [
    "for i, val in enumerate(dofs):\n",
    "    print( val )"
   ]
  },
  {
   "cell_type": "code",
   "execution_count": null,
   "id": "8041d66b-4b5f-435a-a0be-bf1ac0b70115",
   "metadata": {},
   "outputs": [],
   "source": []
  }
 ],
 "metadata": {
  "kernelspec": {
   "display_name": "LSST",
   "language": "python",
   "name": "lsst"
  },
  "language_info": {
   "codemirror_mode": {
    "name": "ipython",
    "version": 3
   },
   "file_extension": ".py",
   "mimetype": "text/x-python",
   "name": "python",
   "nbconvert_exporter": "python",
   "pygments_lexer": "ipython3",
   "version": "3.11.11"
  }
 },
 "nbformat": 4,
 "nbformat_minor": 5
}
