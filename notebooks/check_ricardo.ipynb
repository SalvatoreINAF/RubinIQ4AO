{
 "cells": [
  {
   "cell_type": "code",
   "execution_count": 1,
   "id": "3a10cdb2-2615-4953-85b1-6e712e2d69ce",
   "metadata": {
    "execution": {
     "iopub.execute_input": "2024-10-29T15:20:50.990511Z",
     "iopub.status.busy": "2024-10-29T15:20:50.990261Z",
     "iopub.status.idle": "2024-10-29T15:20:52.395952Z",
     "shell.execute_reply": "2024-10-29T15:20:52.395498Z",
     "shell.execute_reply.started": "2024-10-29T15:20:50.990494Z"
    }
   },
   "outputs": [],
   "source": [
    "from ellipticity_mapping import plot_ellipticitymap\n",
    "import pandas as pd\n",
    "import numpy as np"
   ]
  },
  {
   "cell_type": "code",
   "execution_count": 2,
   "id": "9e308bde-6c46-473e-a43e-709fcd5249e2",
   "metadata": {
    "execution": {
     "iopub.execute_input": "2024-10-29T15:20:53.144979Z",
     "iopub.status.busy": "2024-10-29T15:20:53.144389Z",
     "iopub.status.idle": "2024-10-29T15:20:53.147462Z",
     "shell.execute_reply": "2024-10-29T15:20:53.147048Z",
     "shell.execute_reply.started": "2024-10-29T15:20:53.144958Z"
    }
   },
   "outputs": [],
   "source": [
    "folder = '/home/v/vittorio/image_quality_shared/imsim/ellipticitymap/Ricardo/'\n",
    "fileins = ['v0117_ellip_M2rx_22.5.out',\n",
    "    'v0117_ellip_M2rx_22.5_s0.1.out',\n",
    "    'v0117_ellip_M2rx_22.5_s0.5.out',\n",
    "    'v0118_ellip_Cx_1750.out',\n",
    "    'v0118_ellip_Cx_1750_s0.1.out',\n",
    "    'v0118_ellip_Cx_1750_s0.5.out',\n",
    "    'v0119_ellip_M2rx_22.5.out',\n",
    "    'v0119_ellip_M2rx_22.5_s0.1.out',\n",
    "    'v0119_ellip_M2rx_22.5_s0.5.out']"
   ]
  },
  {
   "cell_type": "code",
   "execution_count": 4,
   "id": "f99c506a-5f95-4f81-8f04-af8e02e65292",
   "metadata": {
    "execution": {
     "iopub.execute_input": "2024-10-29T15:22:10.753608Z",
     "iopub.status.busy": "2024-10-29T15:22:10.753172Z",
     "iopub.status.idle": "2024-10-29T15:22:12.958930Z",
     "shell.execute_reply": "2024-10-29T15:22:12.958542Z",
     "shell.execute_reply.started": "2024-10-29T15:22:10.753590Z"
    }
   },
   "outputs": [
    {
     "name": "stderr",
     "output_type": "stream",
     "text": [
      "/tmp/ipykernel_773/3501836985.py:2: FutureWarning: The 'delim_whitespace' keyword in pd.read_csv is deprecated and will be removed in a future version. Use ``sep='\\s+'`` instead\n",
      "  df = pd.read_csv(folder+filein, delim_whitespace=True)\n",
      "/tmp/ipykernel_773/3501836985.py:2: FutureWarning: The 'delim_whitespace' keyword in pd.read_csv is deprecated and will be removed in a future version. Use ``sep='\\s+'`` instead\n",
      "  df = pd.read_csv(folder+filein, delim_whitespace=True)\n",
      "/tmp/ipykernel_773/3501836985.py:2: FutureWarning: The 'delim_whitespace' keyword in pd.read_csv is deprecated and will be removed in a future version. Use ``sep='\\s+'`` instead\n",
      "  df = pd.read_csv(folder+filein, delim_whitespace=True)\n",
      "/tmp/ipykernel_773/3501836985.py:2: FutureWarning: The 'delim_whitespace' keyword in pd.read_csv is deprecated and will be removed in a future version. Use ``sep='\\s+'`` instead\n",
      "  df = pd.read_csv(folder+filein, delim_whitespace=True)\n",
      "/tmp/ipykernel_773/3501836985.py:2: FutureWarning: The 'delim_whitespace' keyword in pd.read_csv is deprecated and will be removed in a future version. Use ``sep='\\s+'`` instead\n",
      "  df = pd.read_csv(folder+filein, delim_whitespace=True)\n",
      "/tmp/ipykernel_773/3501836985.py:2: FutureWarning: The 'delim_whitespace' keyword in pd.read_csv is deprecated and will be removed in a future version. Use ``sep='\\s+'`` instead\n",
      "  df = pd.read_csv(folder+filein, delim_whitespace=True)\n",
      "/tmp/ipykernel_773/3501836985.py:2: FutureWarning: The 'delim_whitespace' keyword in pd.read_csv is deprecated and will be removed in a future version. Use ``sep='\\s+'`` instead\n",
      "  df = pd.read_csv(folder+filein, delim_whitespace=True)\n",
      "/tmp/ipykernel_773/3501836985.py:2: FutureWarning: The 'delim_whitespace' keyword in pd.read_csv is deprecated and will be removed in a future version. Use ``sep='\\s+'`` instead\n",
      "  df = pd.read_csv(folder+filein, delim_whitespace=True)\n",
      "/tmp/ipykernel_773/3501836985.py:2: FutureWarning: The 'delim_whitespace' keyword in pd.read_csv is deprecated and will be removed in a future version. Use ``sep='\\s+'`` instead\n",
      "  df = pd.read_csv(folder+filein, delim_whitespace=True)\n"
     ]
    }
   ],
   "source": [
    "for filein in fileins:\n",
    "    df = pd.read_csv(folder+filein, delim_whitespace=True)\n",
    "    df.rename(columns={'#x': 'x'}, inplace=True)\n",
    "    ex = df.el.values * np.cos(np.radians(df.pa.values))\n",
    "    ey = df.el.values * np.sin(np.radians(df.pa.values))\n",
    "    plot_ellipticitymap(df.x.values, df.y.values, ex, ey, df.el.values, folder+filein+'.png', \n",
    "                    figure_size_degrees=2., clim_min=0,\n",
    "                    clim_max=max(df.el.values), scale=4.)"
   ]
  },
  {
   "cell_type": "code",
   "execution_count": null,
   "id": "087db6d7-f38e-41fa-bece-bd88a1b54b76",
   "metadata": {},
   "outputs": [],
   "source": []
  }
 ],
 "metadata": {
  "kernelspec": {
   "display_name": "LSST",
   "language": "python",
   "name": "lsst"
  },
  "language_info": {
   "codemirror_mode": {
    "name": "ipython",
    "version": 3
   },
   "file_extension": ".py",
   "mimetype": "text/x-python",
   "name": "python",
   "nbconvert_exporter": "python",
   "pygments_lexer": "ipython3",
   "version": "3.11.9"
  }
 },
 "nbformat": 4,
 "nbformat_minor": 5
}
