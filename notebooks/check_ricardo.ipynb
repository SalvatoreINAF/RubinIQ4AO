{
 "cells": [
  {
   "cell_type": "code",
   "execution_count": 1,
   "id": "3a10cdb2-2615-4953-85b1-6e712e2d69ce",
   "metadata": {
    "execution": {
     "iopub.execute_input": "2024-09-26T09:03:54.054348Z",
     "iopub.status.busy": "2024-09-26T09:03:54.054146Z",
     "iopub.status.idle": "2024-09-26T09:03:55.432663Z",
     "shell.execute_reply": "2024-09-26T09:03:55.432196Z",
     "shell.execute_reply.started": "2024-09-26T09:03:54.054334Z"
    }
   },
   "outputs": [],
   "source": [
    "from ellipticity_mapping import plot_ellipticitymap\n",
    "import pandas as pd\n",
    "import numpy as np"
   ]
  },
  {
   "cell_type": "code",
   "execution_count": 23,
   "id": "9e308bde-6c46-473e-a43e-709fcd5249e2",
   "metadata": {
    "execution": {
     "iopub.execute_input": "2024-09-26T09:12:21.784336Z",
     "iopub.status.busy": "2024-09-26T09:12:21.783929Z",
     "iopub.status.idle": "2024-09-26T09:12:21.786279Z",
     "shell.execute_reply": "2024-09-26T09:12:21.785977Z",
     "shell.execute_reply.started": "2024-09-26T09:12:21.784322Z"
    }
   },
   "outputs": [],
   "source": [
    "folder = '/home/v/vittorio/image_quality_shared/imsim/ellipticitymap/Ricardo/'\n",
    "filein = 'ellip_M2ry_22.5_s0.7.log'"
   ]
  },
  {
   "cell_type": "code",
   "execution_count": 24,
   "id": "f99c506a-5f95-4f81-8f04-af8e02e65292",
   "metadata": {
    "execution": {
     "iopub.execute_input": "2024-09-26T09:12:21.943115Z",
     "iopub.status.busy": "2024-09-26T09:12:21.942748Z",
     "iopub.status.idle": "2024-09-26T09:12:21.964973Z",
     "shell.execute_reply": "2024-09-26T09:12:21.964669Z",
     "shell.execute_reply.started": "2024-09-26T09:12:21.943099Z"
    }
   },
   "outputs": [
    {
     "name": "stderr",
     "output_type": "stream",
     "text": [
      "/tmp/ipykernel_782/165228298.py:1: FutureWarning: The 'delim_whitespace' keyword in pd.read_csv is deprecated and will be removed in a future version. Use ``sep='\\s+'`` instead\n",
      "  df = pd.read_csv(folder+filein, delim_whitespace=True)\n"
     ]
    }
   ],
   "source": [
    "df = pd.read_csv(folder+filein, delim_whitespace=True)\n",
    "df.rename(columns={'#x': 'x'}, inplace=True)"
   ]
  },
  {
   "cell_type": "code",
   "execution_count": 25,
   "id": "16114b47-51c8-4938-8c35-ff119f8f43ec",
   "metadata": {
    "execution": {
     "iopub.execute_input": "2024-09-26T09:12:22.080231Z",
     "iopub.status.busy": "2024-09-26T09:12:22.080105Z",
     "iopub.status.idle": "2024-09-26T09:12:22.082525Z",
     "shell.execute_reply": "2024-09-26T09:12:22.082236Z",
     "shell.execute_reply.started": "2024-09-26T09:12:22.080221Z"
    }
   },
   "outputs": [],
   "source": [
    "ex = df.el.values * np.cos(np.radians(df.pa.values))\n",
    "ey = df.el.values * np.sin(np.radians(df.pa.values))"
   ]
  },
  {
   "cell_type": "code",
   "execution_count": 26,
   "id": "c2cc6561-b30e-41d2-b360-3ed1b71b26ad",
   "metadata": {
    "execution": {
     "iopub.execute_input": "2024-09-26T09:12:22.205269Z",
     "iopub.status.busy": "2024-09-26T09:12:22.204904Z",
     "iopub.status.idle": "2024-09-26T09:12:22.390676Z",
     "shell.execute_reply": "2024-09-26T09:12:22.390314Z",
     "shell.execute_reply.started": "2024-09-26T09:12:22.205255Z"
    }
   },
   "outputs": [],
   "source": [
    "plot_ellipticitymap(df.x.values, df.y.values, ex, ey, df.el.values, folder+filein+'.png', clim_min=0, clim_max=.1, scale=.8)"
   ]
  },
  {
   "cell_type": "code",
   "execution_count": null,
   "id": "9c9d9305-1816-422e-9b54-796b535aafd2",
   "metadata": {},
   "outputs": [],
   "source": []
  },
  {
   "cell_type": "code",
   "execution_count": null,
   "id": "dcb643e9-6a87-417a-ba56-ee941c4f7414",
   "metadata": {},
   "outputs": [],
   "source": []
  }
 ],
 "metadata": {
  "kernelspec": {
   "display_name": "LSST",
   "language": "python",
   "name": "lsst"
  },
  "language_info": {
   "codemirror_mode": {
    "name": "ipython",
    "version": 3
   },
   "file_extension": ".py",
   "mimetype": "text/x-python",
   "name": "python",
   "nbconvert_exporter": "python",
   "pygments_lexer": "ipython3",
   "version": "3.11.9"
  }
 },
 "nbformat": 4,
 "nbformat_minor": 5
}
