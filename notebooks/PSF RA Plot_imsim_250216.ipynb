{
 "cells": [
  {
   "cell_type": "code",
   "execution_count": 1,
   "id": "75f08671-b090-4a11-8477-dbf26b97dce8",
   "metadata": {
    "execution": {
     "iopub.execute_input": "2025-02-13T13:28:19.945168Z",
     "iopub.status.busy": "2025-02-13T13:28:19.945044Z",
     "iopub.status.idle": "2025-02-13T13:28:19.947020Z",
     "shell.execute_reply": "2025-02-13T13:28:19.946683Z",
     "shell.execute_reply.started": "2025-02-13T13:28:19.945155Z"
    }
   },
   "outputs": [],
   "source": [
    "# import lsst.summit.extras"
   ]
  },
  {
   "cell_type": "code",
   "execution_count": 2,
   "id": "cd79d606-fe07-4888-b618-e1f4fcbd5ed9",
   "metadata": {
    "execution": {
     "iopub.execute_input": "2025-02-13T13:28:19.947615Z",
     "iopub.status.busy": "2025-02-13T13:28:19.947439Z",
     "iopub.status.idle": "2025-02-13T13:28:19.956442Z",
     "shell.execute_reply": "2025-02-13T13:28:19.956058Z",
     "shell.execute_reply.started": "2025-02-13T13:28:19.947603Z"
    }
   },
   "outputs": [],
   "source": [
    "# lsst.summit.__file__"
   ]
  },
  {
   "cell_type": "code",
   "execution_count": 2,
   "id": "e9307715-dff6-46d5-b468-f9653f3a1870",
   "metadata": {
    "execution": {
     "iopub.execute_input": "2025-02-16T08:02:01.543232Z",
     "iopub.status.busy": "2025-02-16T08:02:01.542423Z",
     "iopub.status.idle": "2025-02-16T08:02:01.572274Z",
     "shell.execute_reply": "2025-02-16T08:02:01.571862Z",
     "shell.execute_reply.started": "2025-02-16T08:02:01.543209Z"
    }
   },
   "outputs": [],
   "source": [
    "%load_ext autoreload\n",
    "%autoreload 2"
   ]
  },
  {
   "cell_type": "code",
   "execution_count": 3,
   "id": "97d8c90b-77c4-4334-b01a-042a94c8e2ba",
   "metadata": {
    "execution": {
     "iopub.execute_input": "2025-02-16T08:02:01.817544Z",
     "iopub.status.busy": "2025-02-16T08:02:01.817244Z",
     "iopub.status.idle": "2025-02-16T08:02:04.514285Z",
     "shell.execute_reply": "2025-02-16T08:02:04.513729Z",
     "shell.execute_reply.started": "2025-02-16T08:02:01.817528Z"
    }
   },
   "outputs": [],
   "source": [
    "#from lsst.summit.extras.plotting.psfPlotting import makeAzElPlot, makeTableFromSourceCatalogs, makeFocalPlanePlot, makeEquatorialPlot\n",
    "from MYpsfPlotting import makeAzElPlot, makeTableFromSourceCatalogs, makeFocalPlanePlot, makeEquatorialPlot, makeTableFromGrid\n",
    "from lsst.afw import cameraGeom\n",
    "from lsst.obs.lsst import LsstComCam, LsstCam\n",
    "from lsst.geom import Point2D\n",
    "import matplotlib.pyplot as plt\n",
    "import pandas as pd\n",
    "import numpy as np"
   ]
  },
  {
   "cell_type": "code",
   "execution_count": 4,
   "id": "8c9984a8-0cc6-4d98-8bf9-122978100f79",
   "metadata": {
    "execution": {
     "iopub.execute_input": "2025-02-16T08:02:04.515702Z",
     "iopub.status.busy": "2025-02-16T08:02:04.515116Z",
     "iopub.status.idle": "2025-02-16T08:02:04.547071Z",
     "shell.execute_reply": "2025-02-16T08:02:04.546665Z",
     "shell.execute_reply.started": "2025-02-16T08:02:04.515682Z"
    }
   },
   "outputs": [],
   "source": [
    "from lsst.daf.butler import Butler"
   ]
  },
  {
   "cell_type": "code",
   "execution_count": 5,
   "id": "38bdce77-c05d-42cc-a372-61e9ae4618ff",
   "metadata": {
    "execution": {
     "iopub.execute_input": "2025-02-16T08:02:04.547764Z",
     "iopub.status.busy": "2025-02-16T08:02:04.547625Z",
     "iopub.status.idle": "2025-02-16T08:02:04.577255Z",
     "shell.execute_reply": "2025-02-16T08:02:04.576876Z",
     "shell.execute_reply.started": "2025-02-16T08:02:04.547749Z"
    }
   },
   "outputs": [],
   "source": [
    "def pixel_to_camera(x, y, det):\n",
    "    \"\"\"\n",
    "    Parameters\n",
    "    ----------\n",
    "    x, y : array\n",
    "        Pixel coordinates.\n",
    "    det : lsst.afw.cameraGeom.Detector\n",
    "        Detector of interest.\n",
    "    Returns\n",
    "    -------\n",
    "    cam_x, cam_y : array\n",
    "        Focal plane position in millimeters in DVCS\n",
    "        See https://lse-349.lsst.io/\n",
    "    \"\"\"\n",
    "    tx = det.getTransform(cameraGeom.PIXELS, cameraGeom.FOCAL_PLANE)\n",
    "    cam_x, cam_y = tx.getMapping().applyForward(np.vstack((x, y)))\n",
    "    return cam_x.ravel(), cam_y.ravel()"
   ]
  },
  {
   "cell_type": "markdown",
   "id": "d07fc1d2-1e4c-4b0c-876a-72fca8ff4fa8",
   "metadata": {},
   "source": [
    "Stuff to load simulations"
   ]
  },
  {
   "cell_type": "code",
   "execution_count": 6,
   "id": "72463c62-61b0-49d5-8ca4-31f2473dece5",
   "metadata": {
    "execution": {
     "iopub.execute_input": "2025-02-16T08:02:04.578230Z",
     "iopub.status.busy": "2025-02-16T08:02:04.578082Z",
     "iopub.status.idle": "2025-02-16T08:02:04.654331Z",
     "shell.execute_reply": "2025-02-16T08:02:04.653934Z",
     "shell.execute_reply.started": "2025-02-16T08:02:04.578217Z"
    }
   },
   "outputs": [],
   "source": [
    "import importlib.util\n",
    "import sys\n",
    "# sys.path.append(\"../../notebooks/\")\n",
    "# sys.path.append(\"/sdf/data/rubin/shared/image_quality/imsim/notebooks/\")                #file with convertion between seqnum and collection\n",
    "# from .sdf.data.rubin.shared.image_quality.imsim.notebooks.collection_dictionary_shared import collection_dictionary\n",
    "\n",
    "spec = importlib.util.spec_from_file_location(\"collection_dictionary_shared\", \n",
    "                                              \"/sdf/data/rubin/shared/image_quality/imsim/notebooks/collection_dictionary_shared.py\")\n",
    "collection_dictionary = importlib.util.module_from_spec(spec)\n",
    "sys.modules[\"module.name\"] = collection_dictionary\n",
    "spec.loader.exec_module(collection_dictionary)\n",
    "\n",
    "collection_dictionary = collection_dictionary.collection_dictionary\n"
   ]
  },
  {
   "cell_type": "code",
   "execution_count": 7,
   "id": "828632d8-6245-4c3b-a109-abc527f1e35b",
   "metadata": {
    "execution": {
     "iopub.execute_input": "2025-02-16T08:02:04.654944Z",
     "iopub.status.busy": "2025-02-16T08:02:04.654796Z",
     "iopub.status.idle": "2025-02-16T08:02:04.685279Z",
     "shell.execute_reply": "2025-02-16T08:02:04.684957Z",
     "shell.execute_reply.started": "2025-02-16T08:02:04.654930Z"
    }
   },
   "outputs": [],
   "source": [
    "folder = '/sdf/data/rubin/shared/image_quality/imsim/'\n",
    "folderout = '/sdf/data/rubin/shared/image_quality/imsim/ellipticitymap/figures/' #where to save figures\n",
    "#Define the butler data configuration and collection (una tantum )\n",
    "config = folder+'repo'\n",
    "seqnum_base = 5023071800000\n",
    "collection_dict = collection_dictionary()"
   ]
  },
  {
   "cell_type": "code",
   "execution_count": 12,
   "id": "24d717fc-6e77-48aa-bbca-4a2683746ad0",
   "metadata": {
    "execution": {
     "iopub.execute_input": "2025-02-16T08:02:36.787866Z",
     "iopub.status.busy": "2025-02-16T08:02:36.787563Z",
     "iopub.status.idle": "2025-02-16T08:02:36.821508Z",
     "shell.execute_reply": "2025-02-16T08:02:36.821053Z",
     "shell.execute_reply.started": "2025-02-16T08:02:36.787850Z"
    }
   },
   "outputs": [],
   "source": [
    "seqnum = 181\n",
    "visitid_complete = seqnum+seqnum_base\n",
    "collections = collection_dict[visitid_complete]"
   ]
  },
  {
   "cell_type": "code",
   "execution_count": 13,
   "id": "6efb189c-39b1-4782-8e97-abe83520b73b",
   "metadata": {
    "execution": {
     "iopub.execute_input": "2025-02-16T08:02:36.956577Z",
     "iopub.status.busy": "2025-02-16T08:02:36.956296Z",
     "iopub.status.idle": "2025-02-16T08:02:37.121417Z",
     "shell.execute_reply": "2025-02-16T08:02:37.121006Z",
     "shell.execute_reply.started": "2025-02-16T08:02:36.956563Z"
    }
   },
   "outputs": [],
   "source": [
    "butler = Butler(config, collections=collections)\n",
    "# butler.collections.query_info(collections[0], include_summary=True)"
   ]
  },
  {
   "cell_type": "code",
   "execution_count": 14,
   "id": "24fab087-4842-4e21-8916-95943ba73330",
   "metadata": {
    "execution": {
     "iopub.execute_input": "2025-02-16T08:02:37.122186Z",
     "iopub.status.busy": "2025-02-16T08:02:37.122046Z",
     "iopub.status.idle": "2025-02-16T08:02:37.185979Z",
     "shell.execute_reply": "2025-02-16T08:02:37.185526Z",
     "shell.execute_reply.started": "2025-02-16T08:02:37.122174Z"
    }
   },
   "outputs": [
    {
     "data": {
      "text/plain": [
       "[DatasetRef(DatasetType('icSrc', {band, instrument, detector, physical_filter, visit}, SourceCatalog), {instrument: 'LSSTCam', detector: 90, visit: 5023071800181, band: 'r', physical_filter: 'r_57'}, run='pipetask_output/20250214T093220Z', id=e0d99e8d-813c-4ff2-b7a7-5b7893e3f38e)]"
      ]
     },
     "execution_count": 14,
     "metadata": {},
     "output_type": "execute_result"
    }
   ],
   "source": [
    "registry = butler.registry\n",
    "postisr = list(registry.queryDatasets('icSrc', collections=collections, detector=90))\n",
    "postisr\n",
    "#exposure_ids = np.array([data.dataId['exposure'] for data in postisr])\n",
    "# exposure_ids"
   ]
  },
  {
   "cell_type": "code",
   "execution_count": 22,
   "id": "8e643df1-7007-481c-9d78-796a5efe6bbb",
   "metadata": {
    "execution": {
     "iopub.execute_input": "2025-02-16T08:09:42.783382Z",
     "iopub.status.busy": "2025-02-16T08:09:42.783023Z",
     "iopub.status.idle": "2025-02-16T08:09:49.304508Z",
     "shell.execute_reply": "2025-02-16T08:09:49.303970Z",
     "shell.execute_reply.started": "2025-02-16T08:09:42.783364Z"
    }
   },
   "outputs": [
    {
     "name": "stdout",
     "output_type": "stream",
     "text": [
      "0\n",
      "1\n",
      "2\n",
      "3\n",
      "4\n",
      "5\n",
      "6\n",
      "7\n",
      "8\n",
      "9\n",
      "10\n",
      "11\n",
      "12\n",
      "13\n",
      "14\n",
      "15\n",
      "16\n",
      "17\n",
      "18\n",
      "19\n",
      "20\n",
      "21\n",
      "22\n",
      "23\n",
      "24\n",
      "25\n",
      "26\n",
      "27\n",
      "28\n",
      "29\n",
      "30\n",
      "31\n",
      "32\n",
      "33\n",
      "34\n",
      "35\n",
      "36\n",
      "37\n",
      "38\n",
      "39\n",
      "40\n",
      "41\n",
      "42\n",
      "43\n",
      "44\n",
      "45\n",
      "46\n",
      "47\n",
      "48\n",
      "49\n",
      "50\n",
      "51\n",
      "52\n",
      "53\n",
      "54\n",
      "55\n",
      "56\n",
      "57\n",
      "58\n",
      "59\n",
      "60\n",
      "61\n",
      "62\n",
      "63\n",
      "64\n",
      "65\n",
      "66\n",
      "67\n",
      "68\n",
      "69\n",
      "70\n",
      "71\n",
      "72\n",
      "73\n",
      "74\n",
      "75\n",
      "76\n",
      "77\n",
      "78\n",
      "79\n",
      "80\n",
      "81\n",
      "82\n",
      "83\n",
      "84\n",
      "85\n",
      "86\n",
      "87\n",
      "88\n",
      "89\n",
      "90\n",
      "91\n",
      "92\n",
      "93\n",
      "94\n",
      "95\n",
      "96\n",
      "97\n",
      "98\n",
      "99\n",
      "100\n",
      "101\n",
      "102\n",
      "103\n",
      "104\n",
      "105\n",
      "106\n",
      "107\n",
      "108\n",
      "109\n",
      "110\n",
      "111\n",
      "112\n",
      "113\n",
      "114\n",
      "115\n",
      "116\n",
      "117\n",
      "118\n",
      "119\n",
      "120\n",
      "121\n",
      "122\n",
      "123\n",
      "124\n",
      "125\n",
      "126\n",
      "127\n",
      "128\n",
      "129\n",
      "130\n",
      "131\n",
      "132\n",
      "133\n",
      "134\n",
      "135\n",
      "136\n",
      "137\n",
      "138\n",
      "139\n",
      "140\n",
      "141\n",
      "142\n",
      "143\n",
      "144\n",
      "145\n",
      "146\n",
      "147\n",
      "148\n",
      "149\n",
      "150\n",
      "151\n",
      "152\n",
      "153\n",
      "154\n",
      "155\n",
      "156\n",
      "157\n",
      "158\n",
      "159\n",
      "160\n",
      "161\n",
      "162\n",
      "163\n",
      "164\n",
      "165\n",
      "166\n",
      "167\n",
      "168\n",
      "169\n",
      "170\n",
      "171\n",
      "172\n",
      "173\n",
      "174\n",
      "175\n",
      "176\n",
      "177\n",
      "178\n",
      "179\n",
      "180\n",
      "181\n",
      "182\n",
      "183\n",
      "184\n",
      "185\n",
      "186\n",
      "187\n",
      "188\n"
     ]
    }
   ],
   "source": [
    "# SULLE SORGENTI\n",
    "\n",
    "icSrcs = []\n",
    "visitInfos = []\n",
    "visit_id=postisr[0].dataId['visit']\n",
    "\n",
    "for i in range(189):\n",
    "    try:\n",
    "        print(i)\n",
    "        icSrcs.append(butler.get(\"icSrc\", dataId={\"visit\":visit_id, \"detector\":i}))\n",
    "        visitInfos.append(butler.get(\"postISRCCD.visitInfo\", dataId={\"exposure\":visit_id, \"detector\":i}))\n",
    "    except:\n",
    "        continue"
   ]
  },
  {
   "cell_type": "code",
   "execution_count": 32,
   "id": "57d609c8-619c-4d3c-b679-1cd019b0fa8b",
   "metadata": {
    "execution": {
     "iopub.execute_input": "2025-02-13T13:54:38.707589Z",
     "iopub.status.busy": "2025-02-13T13:54:38.707274Z",
     "iopub.status.idle": "2025-02-13T13:54:53.749820Z",
     "shell.execute_reply": "2025-02-13T13:54:53.749225Z",
     "shell.execute_reply.started": "2025-02-13T13:54:38.707573Z"
    }
   },
   "outputs": [
    {
     "name": "stdout",
     "output_type": "stream",
     "text": [
      "90\n"
     ]
    },
    {
     "ename": "ValueError",
     "evalue": "Per-column arrays must each be 1-dimensional",
     "output_type": "error",
     "traceback": [
      "\u001b[0;31m---------------------------------------------------------------------------\u001b[0m",
      "\u001b[0;31mValueError\u001b[0m                                Traceback (most recent call last)",
      "Cell \u001b[0;32mIn[32], line 24\u001b[0m\n\u001b[1;32m     21\u001b[0m     table_grids\u001b[38;5;241m.\u001b[39mappend(table_grid)\n\u001b[1;32m     23\u001b[0m     fig, axes \u001b[38;5;241m=\u001b[39m plt\u001b[38;5;241m.\u001b[39msubplots(nrows\u001b[38;5;241m=\u001b[39m\u001b[38;5;241m2\u001b[39m, ncols\u001b[38;5;241m=\u001b[39m\u001b[38;5;241m2\u001b[39m, figsize\u001b[38;5;241m=\u001b[39m(\u001b[38;5;241m10\u001b[39m, \u001b[38;5;241m9\u001b[39m), sharex\u001b[38;5;241m=\u001b[39m\u001b[38;5;28;01mTrue\u001b[39;00m, sharey\u001b[38;5;241m=\u001b[39m\u001b[38;5;28;01mTrue\u001b[39;00m)\n\u001b[0;32m---> 24\u001b[0m     \u001b[43mmakeAzElPlot\u001b[49m\u001b[43m(\u001b[49m\u001b[43mfig\u001b[49m\u001b[43m,\u001b[49m\u001b[43m \u001b[49m\u001b[43maxes\u001b[49m\u001b[43m,\u001b[49m\u001b[43m \u001b[49m\u001b[43mtable_grid\u001b[49m\u001b[43m,\u001b[49m\u001b[43m \u001b[49m\u001b[43mcamera\u001b[49m\u001b[43m,\u001b[49m\u001b[43m \u001b[49m\u001b[43msaveTableAs\u001b[49m\u001b[38;5;241;43m=\u001b[39;49m\u001b[43mfolderout\u001b[49m\u001b[38;5;241;43m+\u001b[39;49m\u001b[38;5;124;43m\"\u001b[39;49m\u001b[38;5;124;43mellipticity_wJosh_imsim\u001b[39;49m\u001b[38;5;124;43m\"\u001b[39;49m\u001b[38;5;241;43m+\u001b[39;49m\u001b[38;5;28;43mstr\u001b[39;49m\u001b[43m(\u001b[49m\u001b[43mseqnum\u001b[49m\u001b[43m)\u001b[49m\u001b[38;5;241;43m+\u001b[39;49m\u001b[38;5;124;43m\"\u001b[39;49m\u001b[38;5;124;43m_ccd\u001b[39;49m\u001b[38;5;124;43m\"\u001b[39;49m\u001b[38;5;241;43m+\u001b[39;49m\u001b[38;5;28;43mstr\u001b[39;49m\u001b[43m(\u001b[49m\u001b[43mi\u001b[49m\u001b[43m)\u001b[49m\u001b[38;5;241;43m+\u001b[39;49m\u001b[38;5;124;43m\"\u001b[39;49m\u001b[38;5;124;43m.csv\u001b[39;49m\u001b[38;5;124;43m\"\u001b[39;49m\u001b[43m)\u001b[49m\n\u001b[1;32m     26\u001b[0m     \u001b[38;5;28;01mdel\u001b[39;00m calexp\n\u001b[1;32m     28\u001b[0m \u001b[38;5;66;03m# print(table_grids)\u001b[39;00m\n",
      "File \u001b[0;32m/sdf/data/rubin/user/vittorio/projects/imsim_2024_03/imSim/github/RubinIQ4AO/notebooks/MYpsfPlotting.py:834\u001b[0m, in \u001b[0;36mmakeAzElPlot\u001b[0;34m(fig, axes, table, camera, maxPoints, saveAs, saveTableAs)\u001b[0m\n\u001b[1;32m    814\u001b[0m \u001b[38;5;28;01mif\u001b[39;00m saveTableAs:    \u001b[38;5;66;03m#D-IO\u001b[39;00m\n\u001b[1;32m    815\u001b[0m     \u001b[38;5;66;03m# Create a DataFrame with the necessary columns\u001b[39;00m\n\u001b[1;32m    816\u001b[0m     data_to_save \u001b[38;5;241m=\u001b[39m {\n\u001b[1;32m    817\u001b[0m         \u001b[38;5;124m\"\u001b[39m\u001b[38;5;124mIxx\u001b[39m\u001b[38;5;124m\"\u001b[39m: table[\u001b[38;5;124m\"\u001b[39m\u001b[38;5;124mIxx\u001b[39m\u001b[38;5;124m\"\u001b[39m],\n\u001b[1;32m    818\u001b[0m         \u001b[38;5;124m\"\u001b[39m\u001b[38;5;124mIxy\u001b[39m\u001b[38;5;124m\"\u001b[39m: table[\u001b[38;5;124m\"\u001b[39m\u001b[38;5;124mIxy\u001b[39m\u001b[38;5;124m\"\u001b[39m],\n\u001b[0;32m   (...)\u001b[0m\n\u001b[1;32m    832\u001b[0m         \u001b[38;5;124m\"\u001b[39m\u001b[38;5;124maa_y\u001b[39m\u001b[38;5;124m\"\u001b[39m: table[\u001b[38;5;124m\"\u001b[39m\u001b[38;5;124maa_y\u001b[39m\u001b[38;5;124m\"\u001b[39m],   \n\u001b[1;32m    833\u001b[0m     }\n\u001b[0;32m--> 834\u001b[0m     df \u001b[38;5;241m=\u001b[39m \u001b[43mpd\u001b[49m\u001b[38;5;241;43m.\u001b[39;49m\u001b[43mDataFrame\u001b[49m\u001b[43m(\u001b[49m\u001b[43mdata_to_save\u001b[49m\u001b[43m)\u001b[49m\n\u001b[1;32m    835\u001b[0m     df\u001b[38;5;241m.\u001b[39mto_csv(saveTableAs, index\u001b[38;5;241m=\u001b[39m\u001b[38;5;28;01mFalse\u001b[39;00m)\n\u001b[1;32m    836\u001b[0m     \u001b[38;5;28mprint\u001b[39m(\u001b[38;5;124mf\u001b[39m\u001b[38;5;124m\"\u001b[39m\u001b[38;5;124mTable saved as \u001b[39m\u001b[38;5;132;01m{\u001b[39;00msaveTableAs\u001b[38;5;132;01m}\u001b[39;00m\u001b[38;5;124m\"\u001b[39m)\n",
      "File \u001b[0;32m/opt/lsst/software/stack/conda/envs/lsst-scipipe-9.0.0/lib/python3.11/site-packages/pandas/core/frame.py:778\u001b[0m, in \u001b[0;36mDataFrame.__init__\u001b[0;34m(self, data, index, columns, dtype, copy)\u001b[0m\n\u001b[1;32m    772\u001b[0m     mgr \u001b[38;5;241m=\u001b[39m \u001b[38;5;28mself\u001b[39m\u001b[38;5;241m.\u001b[39m_init_mgr(\n\u001b[1;32m    773\u001b[0m         data, axes\u001b[38;5;241m=\u001b[39m{\u001b[38;5;124m\"\u001b[39m\u001b[38;5;124mindex\u001b[39m\u001b[38;5;124m\"\u001b[39m: index, \u001b[38;5;124m\"\u001b[39m\u001b[38;5;124mcolumns\u001b[39m\u001b[38;5;124m\"\u001b[39m: columns}, dtype\u001b[38;5;241m=\u001b[39mdtype, copy\u001b[38;5;241m=\u001b[39mcopy\n\u001b[1;32m    774\u001b[0m     )\n\u001b[1;32m    776\u001b[0m \u001b[38;5;28;01melif\u001b[39;00m \u001b[38;5;28misinstance\u001b[39m(data, \u001b[38;5;28mdict\u001b[39m):\n\u001b[1;32m    777\u001b[0m     \u001b[38;5;66;03m# GH#38939 de facto copy defaults to False only in non-dict cases\u001b[39;00m\n\u001b[0;32m--> 778\u001b[0m     mgr \u001b[38;5;241m=\u001b[39m \u001b[43mdict_to_mgr\u001b[49m\u001b[43m(\u001b[49m\u001b[43mdata\u001b[49m\u001b[43m,\u001b[49m\u001b[43m \u001b[49m\u001b[43mindex\u001b[49m\u001b[43m,\u001b[49m\u001b[43m \u001b[49m\u001b[43mcolumns\u001b[49m\u001b[43m,\u001b[49m\u001b[43m \u001b[49m\u001b[43mdtype\u001b[49m\u001b[38;5;241;43m=\u001b[39;49m\u001b[43mdtype\u001b[49m\u001b[43m,\u001b[49m\u001b[43m \u001b[49m\u001b[43mcopy\u001b[49m\u001b[38;5;241;43m=\u001b[39;49m\u001b[43mcopy\u001b[49m\u001b[43m,\u001b[49m\u001b[43m \u001b[49m\u001b[43mtyp\u001b[49m\u001b[38;5;241;43m=\u001b[39;49m\u001b[43mmanager\u001b[49m\u001b[43m)\u001b[49m\n\u001b[1;32m    779\u001b[0m \u001b[38;5;28;01melif\u001b[39;00m \u001b[38;5;28misinstance\u001b[39m(data, ma\u001b[38;5;241m.\u001b[39mMaskedArray):\n\u001b[1;32m    780\u001b[0m     \u001b[38;5;28;01mfrom\u001b[39;00m \u001b[38;5;21;01mnumpy\u001b[39;00m\u001b[38;5;21;01m.\u001b[39;00m\u001b[38;5;21;01mma\u001b[39;00m \u001b[38;5;28;01mimport\u001b[39;00m mrecords\n",
      "File \u001b[0;32m/opt/lsst/software/stack/conda/envs/lsst-scipipe-9.0.0/lib/python3.11/site-packages/pandas/core/internals/construction.py:503\u001b[0m, in \u001b[0;36mdict_to_mgr\u001b[0;34m(data, index, columns, dtype, typ, copy)\u001b[0m\n\u001b[1;32m    499\u001b[0m     \u001b[38;5;28;01melse\u001b[39;00m:\n\u001b[1;32m    500\u001b[0m         \u001b[38;5;66;03m# dtype check to exclude e.g. range objects, scalars\u001b[39;00m\n\u001b[1;32m    501\u001b[0m         arrays \u001b[38;5;241m=\u001b[39m [x\u001b[38;5;241m.\u001b[39mcopy() \u001b[38;5;28;01mif\u001b[39;00m \u001b[38;5;28mhasattr\u001b[39m(x, \u001b[38;5;124m\"\u001b[39m\u001b[38;5;124mdtype\u001b[39m\u001b[38;5;124m\"\u001b[39m) \u001b[38;5;28;01melse\u001b[39;00m x \u001b[38;5;28;01mfor\u001b[39;00m x \u001b[38;5;129;01min\u001b[39;00m arrays]\n\u001b[0;32m--> 503\u001b[0m \u001b[38;5;28;01mreturn\u001b[39;00m \u001b[43marrays_to_mgr\u001b[49m\u001b[43m(\u001b[49m\u001b[43marrays\u001b[49m\u001b[43m,\u001b[49m\u001b[43m \u001b[49m\u001b[43mcolumns\u001b[49m\u001b[43m,\u001b[49m\u001b[43m \u001b[49m\u001b[43mindex\u001b[49m\u001b[43m,\u001b[49m\u001b[43m \u001b[49m\u001b[43mdtype\u001b[49m\u001b[38;5;241;43m=\u001b[39;49m\u001b[43mdtype\u001b[49m\u001b[43m,\u001b[49m\u001b[43m \u001b[49m\u001b[43mtyp\u001b[49m\u001b[38;5;241;43m=\u001b[39;49m\u001b[43mtyp\u001b[49m\u001b[43m,\u001b[49m\u001b[43m \u001b[49m\u001b[43mconsolidate\u001b[49m\u001b[38;5;241;43m=\u001b[39;49m\u001b[43mcopy\u001b[49m\u001b[43m)\u001b[49m\n",
      "File \u001b[0;32m/opt/lsst/software/stack/conda/envs/lsst-scipipe-9.0.0/lib/python3.11/site-packages/pandas/core/internals/construction.py:114\u001b[0m, in \u001b[0;36marrays_to_mgr\u001b[0;34m(arrays, columns, index, dtype, verify_integrity, typ, consolidate)\u001b[0m\n\u001b[1;32m    111\u001b[0m \u001b[38;5;28;01mif\u001b[39;00m verify_integrity:\n\u001b[1;32m    112\u001b[0m     \u001b[38;5;66;03m# figure out the index, if necessary\u001b[39;00m\n\u001b[1;32m    113\u001b[0m     \u001b[38;5;28;01mif\u001b[39;00m index \u001b[38;5;129;01mis\u001b[39;00m \u001b[38;5;28;01mNone\u001b[39;00m:\n\u001b[0;32m--> 114\u001b[0m         index \u001b[38;5;241m=\u001b[39m \u001b[43m_extract_index\u001b[49m\u001b[43m(\u001b[49m\u001b[43marrays\u001b[49m\u001b[43m)\u001b[49m\n\u001b[1;32m    115\u001b[0m     \u001b[38;5;28;01melse\u001b[39;00m:\n\u001b[1;32m    116\u001b[0m         index \u001b[38;5;241m=\u001b[39m ensure_index(index)\n",
      "File \u001b[0;32m/opt/lsst/software/stack/conda/envs/lsst-scipipe-9.0.0/lib/python3.11/site-packages/pandas/core/internals/construction.py:664\u001b[0m, in \u001b[0;36m_extract_index\u001b[0;34m(data)\u001b[0m\n\u001b[1;32m    662\u001b[0m         raw_lengths\u001b[38;5;241m.\u001b[39mappend(\u001b[38;5;28mlen\u001b[39m(val))\n\u001b[1;32m    663\u001b[0m     \u001b[38;5;28;01melif\u001b[39;00m \u001b[38;5;28misinstance\u001b[39m(val, np\u001b[38;5;241m.\u001b[39mndarray) \u001b[38;5;129;01mand\u001b[39;00m val\u001b[38;5;241m.\u001b[39mndim \u001b[38;5;241m>\u001b[39m \u001b[38;5;241m1\u001b[39m:\n\u001b[0;32m--> 664\u001b[0m         \u001b[38;5;28;01mraise\u001b[39;00m \u001b[38;5;167;01mValueError\u001b[39;00m(\u001b[38;5;124m\"\u001b[39m\u001b[38;5;124mPer-column arrays must each be 1-dimensional\u001b[39m\u001b[38;5;124m\"\u001b[39m)\n\u001b[1;32m    666\u001b[0m \u001b[38;5;28;01mif\u001b[39;00m \u001b[38;5;129;01mnot\u001b[39;00m indexes \u001b[38;5;129;01mand\u001b[39;00m \u001b[38;5;129;01mnot\u001b[39;00m raw_lengths:\n\u001b[1;32m    667\u001b[0m     \u001b[38;5;28;01mraise\u001b[39;00m \u001b[38;5;167;01mValueError\u001b[39;00m(\u001b[38;5;124m\"\u001b[39m\u001b[38;5;124mIf using all scalar values, you must pass an index\u001b[39m\u001b[38;5;124m\"\u001b[39m)\n",
      "\u001b[0;31mValueError\u001b[0m: Per-column arrays must each be 1-dimensional"
     ]
    },
    {
     "data": {
      "image/png": "[encoded data removed]",
      "text/plain": [
       "<Figure size 1000x900 with 7 Axes>"
      ]
     },
     "metadata": {},
     "output_type": "display_data"
    }
   ],
   "source": [
    "# SU GRIGLIA\n",
    "\n",
    "calexps = {}\n",
    "psfs = {}\n",
    "table_grids= []\n",
    "visit_id=postisr[0].dataId['visit']\n",
    "n_grid = 10\n",
    "\n",
    "visitInfo = butler.get(\"postISRCCD.visitInfo\", dataId={\"exposure\":visit_id, \"detector\":90})\n",
    "calexp = butler.get('calexp', dataId={\"visit\":visit_id, \"detector\":90})\n",
    "psf = calexp.getPsf()\n",
    "table_grid = makeTableFromGrid(n_grid, calexp, psf, visitInfo)\n",
    "table_grids.append(table_grid)\n",
    "\n",
    "for i in range(90, 99, 1):\n",
    "    print(i)\n",
    "    visitInfo = butler.get(\"postISRCCD.visitInfo\", dataId={\"exposure\":visit_id, \"detector\":i})\n",
    "    calexp = butler.get('calexp', dataId={\"visit\":visit_id, \"detector\":i})\n",
    "    psf = calexp.getPsf()\n",
    "    table_grid = makeTableFromGrid(n_grid, calexp, psf, visitInfo)\n",
    "    table_grids.append(table_grid)\n",
    "\n",
    "    fig, axes = plt.subplots(nrows=2, ncols=2, figsize=(10, 9), sharex=True, sharey=True)\n",
    "    makeAzElPlot(fig, axes, table_grid, camera, saveTableAs=folderout+\"ellipticity_wJosh_imsim\"+str(seqnum)+\"_ccd\"+str(i)+\".csv\")\n",
    "    \n",
    "    del calexp\n",
    "\n",
    "# print(table_grids)"
   ]
  },
  {
   "cell_type": "code",
   "execution_count": null,
   "id": "c1284a8b-4a98-44fc-b83e-ec115ee36b96",
   "metadata": {},
   "outputs": [],
   "source": [
    "#table.columns\n",
    "table.info\n",
    "#table['nw_x'], table['nw_y']\n",
    "#table_sel = table['nw_x', 'nw_y']\n",
    "#table_sel"
   ]
  },
  {
   "cell_type": "code",
   "execution_count": 25,
   "id": "bd5b0d3b-4a84-4fa8-b0b3-da5f2f3ae5ab",
   "metadata": {
    "execution": {
     "iopub.execute_input": "2025-02-16T08:10:33.930885Z",
     "iopub.status.busy": "2025-02-16T08:10:33.930522Z",
     "iopub.status.idle": "2025-02-16T08:10:34.859012Z",
     "shell.execute_reply": "2025-02-16T08:10:34.858388Z",
     "shell.execute_reply.started": "2025-02-16T08:10:33.930869Z"
    }
   },
   "outputs": [],
   "source": [
    "camera = LsstCam().getCamera()"
   ]
  },
  {
   "cell_type": "markdown",
   "id": "e8edcb73-aa78-4acf-b203-a650d632cbd4",
   "metadata": {},
   "source": [
    "ORGINAL for Rubin TV"
   ]
  },
  {
   "cell_type": "code",
   "execution_count": null,
   "id": "a5c756c9-4a9d-452f-a620-823517414172",
   "metadata": {},
   "outputs": [],
   "source": [
    "# butler = Butler(\n",
    "#     \"embargo\", \n",
    "#     # collections=[\"LSSTComCam/quickLook\"], \n",
    "#     collections=[\"LSSTComCam/nightlyValidation\"], \n",
    "#     instrument=\"LSSTComCam\"\n",
    "# )\n",
    "# camera = LsstComCam().getCamera()"
   ]
  },
  {
   "cell_type": "code",
   "execution_count": null,
   "id": "379822e7-4e1e-44f6-a60d-1d74deed9c45",
   "metadata": {},
   "outputs": [],
   "source": [
    "# dayObs = 20241106 #20241029 #20241028\n",
    "# seqNum = 251      #33       #10\n",
    "# visit_id = int(f\"{dayObs}{seqNum:05d}\")"
   ]
  },
  {
   "cell_type": "code",
   "execution_count": null,
   "id": "e5d20a93-7797-4260-a0e8-54ec22c2a683",
   "metadata": {},
   "outputs": [],
   "source": [
    "# icSrcs = {}\n",
    "# for i in range(9):\n",
    "#     icSrcs[i] = butler.get(\"icSrc\", dataId={\"visit\":visit_id, \"detector\":i})\n",
    "# visitInfo = butler.get(\"postISRCCD.visitInfo\", dataId={\"exposure\":visit_id, \"detector\":4})\n",
    "# table = makeTableFromSourceCatalogs(icSrcs, visitInfo)"
   ]
  },
  {
   "cell_type": "code",
   "execution_count": 27,
   "id": "fee51b2d-0e13-4e2f-9feb-079383760c98",
   "metadata": {
    "execution": {
     "iopub.execute_input": "2025-02-16T08:11:13.862633Z",
     "iopub.status.busy": "2025-02-16T08:11:13.862295Z",
     "iopub.status.idle": "2025-02-16T08:11:13.930556Z",
     "shell.execute_reply": "2025-02-16T08:11:13.930176Z",
     "shell.execute_reply.started": "2025-02-16T08:11:13.862613Z"
    }
   },
   "outputs": [
    {
     "data": {
      "text/plain": [
       "<class 'lsst.afw.table.SourceCatalog'>\n",
       "         id         coord_ra ... base_FootprintArea_value\n",
       "                      rad    ...           pix           \n",
       "------------------- -------- ... ------------------------\n",
       "1903404355608903681      nan ...                      215\n",
       "1903404355608903682      nan ...                      213\n",
       "1903404355608903683      nan ...                      152\n",
       "1903404355608903684      nan ...                      195\n",
       "1903404355608903685      nan ...                      226\n",
       "1903404355608903686      nan ...                      184\n",
       "1903404355608903687      nan ...                      220\n",
       "1903404355608903688      nan ...                      210\n",
       "1903404355608903689      nan ...                      202\n",
       "                ...      ... ...                      ...\n",
       "1903404355608903709      nan ...                      228\n",
       "1903404355608903710      nan ...                      221\n",
       "1903404355608903711      nan ...                      223\n",
       "1903404355608903712      nan ...                      229\n",
       "1903404355608903713      nan ...                      230\n",
       "1903404355608903714      nan ...                      232\n",
       "1903404355608903715      nan ...                      232\n",
       "1903404355608903716      nan ...                      232\n",
       "1903404355608903717      nan ...                      236\n",
       "1903404355608903718      nan ...                      232\n",
       "Length = 38 rows"
      ]
     },
     "execution_count": 27,
     "metadata": {},
     "output_type": "execute_result"
    }
   ],
   "source": [
    "icSrcs[0]"
   ]
  },
  {
   "cell_type": "code",
   "execution_count": 26,
   "id": "12bef072-0b90-4e14-ae70-2188eb98b2e5",
   "metadata": {
    "execution": {
     "iopub.execute_input": "2025-02-16T08:10:38.342115Z",
     "iopub.status.busy": "2025-02-16T08:10:38.341846Z",
     "iopub.status.idle": "2025-02-16T08:10:38.408105Z",
     "shell.execute_reply": "2025-02-16T08:10:38.407626Z",
     "shell.execute_reply.started": "2025-02-16T08:10:38.342097Z"
    }
   },
   "outputs": [
    {
     "ename": "AttributeError",
     "evalue": "'lsst.afw.table._table.SourceColumnView' object has no attribute 'items'",
     "output_type": "error",
     "traceback": [
      "\u001b[0;31m---------------------------------------------------------------------------\u001b[0m",
      "\u001b[0;31mAttributeError\u001b[0m                            Traceback (most recent call last)",
      "File \u001b[0;32m/opt/lsst/software/stack/conda/envs/lsst-scipipe-9.0.0/share/eups/Linux64/afw/gef2f8181fd+3031e3cf99/python/lsst/afw/table/_base.py:339\u001b[0m, in \u001b[0;36mCatalog.__getattr__\u001b[0;34m(self, name)\u001b[0m\n\u001b[1;32m    338\u001b[0m \u001b[38;5;28;01mtry\u001b[39;00m:\n\u001b[0;32m--> 339\u001b[0m     \u001b[38;5;28;01mreturn\u001b[39;00m \u001b[38;5;28mgetattr\u001b[39m(\u001b[38;5;28mself\u001b[39m\u001b[38;5;241m.\u001b[39mtable, name)\n\u001b[1;32m    340\u001b[0m \u001b[38;5;28;01mexcept\u001b[39;00m \u001b[38;5;167;01mAttributeError\u001b[39;00m:\n",
      "\u001b[0;31mAttributeError\u001b[0m: 'lsst.afw.table._table.SourceTable' object has no attribute 'items'",
      "\nDuring handling of the above exception, another exception occurred:\n",
      "\u001b[0;31mAttributeError\u001b[0m                            Traceback (most recent call last)",
      "Cell \u001b[0;32mIn[26], line 2\u001b[0m\n\u001b[1;32m      1\u001b[0m \u001b[38;5;28;01mfor\u001b[39;00m i \u001b[38;5;129;01min\u001b[39;00m \u001b[38;5;28mrange\u001b[39m(\u001b[38;5;241m3\u001b[39m):\n\u001b[0;32m----> 2\u001b[0m     table \u001b[38;5;241m=\u001b[39m \u001b[43mmakeTableFromSourceCatalogs\u001b[49m\u001b[43m(\u001b[49m\u001b[43micSrcs\u001b[49m\u001b[43m[\u001b[49m\u001b[43mi\u001b[49m\u001b[43m]\u001b[49m\u001b[43m,\u001b[49m\u001b[43m \u001b[49m\u001b[43mvisitInfos\u001b[49m\u001b[43m[\u001b[49m\u001b[43mi\u001b[49m\u001b[43m]\u001b[49m\u001b[43m)\u001b[49m\n\u001b[1;32m      3\u001b[0m     \u001b[38;5;66;03m#fa figura e tabella\u001b[39;00m\n\u001b[1;32m      4\u001b[0m     fig, axes \u001b[38;5;241m=\u001b[39m plt\u001b[38;5;241m.\u001b[39msubplots(nrows\u001b[38;5;241m=\u001b[39m\u001b[38;5;241m2\u001b[39m, ncols\u001b[38;5;241m=\u001b[39m\u001b[38;5;241m2\u001b[39m, figsize\u001b[38;5;241m=\u001b[39m(\u001b[38;5;241m10\u001b[39m, \u001b[38;5;241m9\u001b[39m), sharex\u001b[38;5;241m=\u001b[39m\u001b[38;5;28;01mTrue\u001b[39;00m, sharey\u001b[38;5;241m=\u001b[39m\u001b[38;5;28;01mTrue\u001b[39;00m)\n",
      "File \u001b[0;32m/sdf/data/rubin/user/vittorio/projects/imsim_2024_03/imSim/github/RubinIQ4AO/notebooks/MYpsfPlotting.py:264\u001b[0m, in \u001b[0;36mmakeTableFromSourceCatalogs\u001b[0;34m(icSrcs, visitInfo)\u001b[0m\n\u001b[1;32m    244\u001b[0m \u001b[38;5;250m\u001b[39m\u001b[38;5;124;03m\"\"\"Extract the shapes from the source catalogs into an astropy table.\u001b[39;00m\n\u001b[1;32m    245\u001b[0m \n\u001b[1;32m    246\u001b[0m \u001b[38;5;124;03mThe shapes of the PSF candidates are extracted from the source catalogs and\u001b[39;00m\n\u001b[0;32m   (...)\u001b[0m\n\u001b[1;32m    260\u001b[0m \u001b[38;5;124;03m    The table containing the data from the source catalogs.\u001b[39;00m\n\u001b[1;32m    261\u001b[0m \u001b[38;5;124;03m\"\"\"\u001b[39;00m\n\u001b[1;32m    262\u001b[0m tables \u001b[38;5;241m=\u001b[39m []\n\u001b[0;32m--> 264\u001b[0m \u001b[38;5;28;01mfor\u001b[39;00m detectorNum, icSrc \u001b[38;5;129;01min\u001b[39;00m \u001b[43micSrcs\u001b[49m\u001b[38;5;241;43m.\u001b[39;49m\u001b[43mitems\u001b[49m():\n\u001b[1;32m    265\u001b[0m     icSrc \u001b[38;5;241m=\u001b[39m icSrc\u001b[38;5;241m.\u001b[39masAstropy()\n\u001b[1;32m    266\u001b[0m     icSrc \u001b[38;5;241m=\u001b[39m icSrc[icSrc[\u001b[38;5;124m\"\u001b[39m\u001b[38;5;124mcalib_psf_candidate\u001b[39m\u001b[38;5;124m\"\u001b[39m]]\n",
      "File \u001b[0;32m/opt/lsst/software/stack/conda/envs/lsst-scipipe-9.0.0/share/eups/Linux64/afw/gef2f8181fd+3031e3cf99/python/lsst/afw/table/_base.py:341\u001b[0m, in \u001b[0;36mCatalog.__getattr__\u001b[0;34m(self, name)\u001b[0m\n\u001b[1;32m    339\u001b[0m     \u001b[38;5;28;01mreturn\u001b[39;00m \u001b[38;5;28mgetattr\u001b[39m(\u001b[38;5;28mself\u001b[39m\u001b[38;5;241m.\u001b[39mtable, name)\n\u001b[1;32m    340\u001b[0m \u001b[38;5;28;01mexcept\u001b[39;00m \u001b[38;5;167;01mAttributeError\u001b[39;00m:\n\u001b[0;32m--> 341\u001b[0m     \u001b[38;5;28;01mreturn\u001b[39;00m \u001b[38;5;28mgetattr\u001b[39m(\u001b[38;5;28mself\u001b[39m\u001b[38;5;241m.\u001b[39mcolumns, name)\n",
      "\u001b[0;31mAttributeError\u001b[0m: 'lsst.afw.table._table.SourceColumnView' object has no attribute 'items'"
     ]
    }
   ],
   "source": [
    "for i in range(3):\n",
    "    table = makeTableFromSourceCatalogs(icSrcs[i], visitInfos[i])\n",
    "    #fa figura e tabella\n",
    "    fig, axes = plt.subplots(nrows=2, ncols=2, figsize=(10, 9), sharex=True, sharey=True)\n",
    "    makeAzElPlot(fig, axes, table, camera, saveTableAs=folderout+\"ellipticity_wJosh_imsim178_ccd90.csv\")\n",
    "    plt.show()"
   ]
  },
  {
   "cell_type": "code",
   "execution_count": null,
   "id": "501f0020-6c34-435c-897f-228d7c0666c2",
   "metadata": {},
   "outputs": [],
   "source": [
    "# fig, axes = plt.subplots(nrows=2, ncols=2, figsize=(10, 9), sharex=True, sharey=True)\n",
    "# makeFocalPlanePlot(fig, axes, table, camera)\n",
    "# plt.show()"
   ]
  },
  {
   "cell_type": "code",
   "execution_count": null,
   "id": "cf32dccd-74e6-4a57-97b0-3b1545386702",
   "metadata": {},
   "outputs": [],
   "source": [
    "# fig, axes = plt.subplots(nrows=2, ncols=2, figsize=(10, 9), sharex=True, sharey=True)\n",
    "# makeEquatorialPlot(fig, axes, table, camera)\n",
    "# plt.show()"
   ]
  },
  {
   "cell_type": "code",
   "execution_count": 18,
   "id": "bc0897a0-9451-44a9-ad19-0647794ba8ee",
   "metadata": {
    "execution": {
     "iopub.execute_input": "2025-02-13T13:28:51.541530Z",
     "iopub.status.busy": "2025-02-13T13:28:51.541235Z",
     "iopub.status.idle": "2025-02-13T13:28:51.575167Z",
     "shell.execute_reply": "2025-02-13T13:28:51.574789Z",
     "shell.execute_reply.started": "2025-02-13T13:28:51.541512Z"
    }
   },
   "outputs": [
    {
     "data": {
      "text/plain": [
       "<Table length=100>\n",
       " name   dtype  shape\n",
       "------ ------- -----\n",
       "   Ixx float64      \n",
       "   Ixy float64      \n",
       "   Iyy float64      \n",
       "     T float64      \n",
       "    e1 float64      \n",
       "    e2 float64      \n",
       "     e float64      \n",
       "     x float64  (1,)\n",
       "     y float64  (1,)\n",
       "aa_Ixx float64      \n",
       "aa_Iyy float64      \n",
       "aa_Ixy float64      \n",
       " aa_e1 float64      \n",
       " aa_e2 float64      \n",
       "  aa_x float64  (1,)\n",
       "  aa_y float64  (1,)\n",
       "nw_Ixx float64      \n",
       "nw_Iyy float64      \n",
       "nw_Ixy float64      \n",
       " nw_e1 float64      \n",
       " nw_e2 float64      \n",
       "  nw_x float64  (1,)\n",
       "  nw_y float64  (1,)"
      ]
     },
     "execution_count": 18,
     "metadata": {},
     "output_type": "execute_result"
    }
   ],
   "source": [
    "#table.columns\n",
    "table_grids[0].info\n",
    "#table['nw_x'], table['nw_y']\n",
    "#table_sel = table['nw_x', 'nw_y']\n",
    "#table_sel"
   ]
  },
  {
   "cell_type": "code",
   "execution_count": 19,
   "id": "c96ed8d6-676b-4fe2-a6dd-b38b7d3bc460",
   "metadata": {
    "execution": {
     "iopub.execute_input": "2025-02-13T13:28:56.580545Z",
     "iopub.status.busy": "2025-02-13T13:28:56.580272Z",
     "iopub.status.idle": "2025-02-13T13:28:57.433593Z",
     "shell.execute_reply": "2025-02-13T13:28:57.433166Z",
     "shell.execute_reply.started": "2025-02-13T13:28:56.580531Z"
    }
   },
   "outputs": [],
   "source": [
    "camera = LsstCam().getCamera()"
   ]
  },
  {
   "cell_type": "code",
   "execution_count": null,
   "id": "a0327361-5b2b-4e5f-8404-d88864dd6944",
   "metadata": {
    "execution": {
     "iopub.status.busy": "2025-01-08T09:07:42.375513Z",
     "iopub.status.idle": "2025-01-08T09:07:42.375666Z",
     "shell.execute_reply": "2025-01-08T09:07:42.375595Z",
     "shell.execute_reply.started": "2025-01-08T09:07:42.375588Z"
    }
   },
   "outputs": [],
   "source": [
    "#camera"
   ]
  },
  {
   "cell_type": "markdown",
   "id": "e3b45b92-47e1-4b9c-b5ae-fe5863ecda39",
   "metadata": {},
   "source": [
    "ORGINAL for Rubin TV"
   ]
  },
  {
   "cell_type": "code",
   "execution_count": null,
   "id": "64f80753-a73b-4da9-b756-78eebc19297d",
   "metadata": {
    "execution": {
     "iopub.status.busy": "2025-01-08T09:07:42.376068Z",
     "iopub.status.idle": "2025-01-08T09:07:42.376222Z",
     "shell.execute_reply": "2025-01-08T09:07:42.376151Z",
     "shell.execute_reply.started": "2025-01-08T09:07:42.376144Z"
    }
   },
   "outputs": [],
   "source": [
    "# butler = Butler(\n",
    "#     \"embargo\", \n",
    "#     # collections=[\"LSSTComCam/quickLook\"], \n",
    "#     collections=[\"LSSTComCam/nightlyValidation\"], \n",
    "#     instrument=\"LSSTComCam\"\n",
    "# )\n",
    "# camera = LsstComCam().getCamera()"
   ]
  },
  {
   "cell_type": "code",
   "execution_count": null,
   "id": "25adc37e-61e3-4255-9f8f-9c941e3eedf7",
   "metadata": {
    "execution": {
     "iopub.status.busy": "2025-01-08T09:07:42.376748Z",
     "iopub.status.idle": "2025-01-08T09:07:42.376911Z",
     "shell.execute_reply": "2025-01-08T09:07:42.376837Z",
     "shell.execute_reply.started": "2025-01-08T09:07:42.376829Z"
    }
   },
   "outputs": [],
   "source": [
    "# dayObs = 20241106 #20241029 #20241028\n",
    "# seqNum = 251      #33       #10\n",
    "# visit_id = int(f\"{dayObs}{seqNum:05d}\")"
   ]
  },
  {
   "cell_type": "code",
   "execution_count": null,
   "id": "73bd94b5-7c8c-4537-a9a5-2bcdf1f8e959",
   "metadata": {
    "execution": {
     "iopub.status.busy": "2025-01-08T09:07:42.377305Z",
     "iopub.status.idle": "2025-01-08T09:07:42.377550Z",
     "shell.execute_reply": "2025-01-08T09:07:42.377437Z",
     "shell.execute_reply.started": "2025-01-08T09:07:42.377427Z"
    }
   },
   "outputs": [],
   "source": [
    "# icSrcs = {}\n",
    "# for i in range(9):\n",
    "#     icSrcs[i] = butler.get(\"icSrc\", dataId={\"visit\":visit_id, \"detector\":i})\n",
    "# visitInfo = butler.get(\"postISRCCD.visitInfo\", dataId={\"exposure\":visit_id, \"detector\":4})\n",
    "# table = makeTableFromSourceCatalogs(icSrcs, visitInfo)"
   ]
  },
  {
   "cell_type": "code",
   "execution_count": 27,
   "id": "ef1717bc-9291-4d9a-be9e-8af06071cb0f",
   "metadata": {
    "execution": {
     "iopub.execute_input": "2025-02-13T13:22:14.906044Z",
     "iopub.status.busy": "2025-02-13T13:22:14.905422Z",
     "iopub.status.idle": "2025-02-13T13:22:15.182178Z",
     "shell.execute_reply": "2025-02-13T13:22:15.181636Z",
     "shell.execute_reply.started": "2025-02-13T13:22:14.906028Z"
    }
   },
   "outputs": [
    {
     "ename": "NameError",
     "evalue": "name 'table' is not defined",
     "output_type": "error",
     "traceback": [
      "\u001b[0;31m---------------------------------------------------------------------------\u001b[0m",
      "\u001b[0;31mNameError\u001b[0m                                 Traceback (most recent call last)",
      "Cell \u001b[0;32mIn[27], line 3\u001b[0m\n\u001b[1;32m      1\u001b[0m \u001b[38;5;66;03m#fa figura e tabella\u001b[39;00m\n\u001b[1;32m      2\u001b[0m fig, axes \u001b[38;5;241m=\u001b[39m plt\u001b[38;5;241m.\u001b[39msubplots(nrows\u001b[38;5;241m=\u001b[39m\u001b[38;5;241m2\u001b[39m, ncols\u001b[38;5;241m=\u001b[39m\u001b[38;5;241m2\u001b[39m, figsize\u001b[38;5;241m=\u001b[39m(\u001b[38;5;241m10\u001b[39m, \u001b[38;5;241m9\u001b[39m), sharex\u001b[38;5;241m=\u001b[39m\u001b[38;5;28;01mTrue\u001b[39;00m, sharey\u001b[38;5;241m=\u001b[39m\u001b[38;5;28;01mTrue\u001b[39;00m)\n\u001b[0;32m----> 3\u001b[0m makeAzElPlot(fig, axes, \u001b[43mtable\u001b[49m, camera,saveTableAs\u001b[38;5;241m=\u001b[39m\u001b[38;5;124m\"\u001b[39m\u001b[38;5;124mellipticity_wJosh_imsim145_ccd90.csv\u001b[39m\u001b[38;5;124m\"\u001b[39m)\n\u001b[1;32m      4\u001b[0m plt\u001b[38;5;241m.\u001b[39mshow()\n",
      "\u001b[0;31mNameError\u001b[0m: name 'table' is not defined"
     ]
    },
    {
     "data": {
      "image/png": "[encoded data removed]",
      "text/plain": [
       "<Figure size 1000x900 with 4 Axes>"
      ]
     },
     "metadata": {},
     "output_type": "display_data"
    }
   ],
   "source": [
    "#fa figura e tabella\n",
    "fig, axes = plt.subplots(nrows=2, ncols=2, figsize=(10, 9), sharex=True, sharey=True)\n",
    "makeAzElPlot(fig, axes, table, camera,saveTableAs=\"ellipticity_wJosh_imsim145_ccd90.csv\")\n",
    "plt.show()"
   ]
  },
  {
   "cell_type": "code",
   "execution_count": null,
   "id": "1f0ad9d2-ce0d-447c-b911-a9d15124d4dd",
   "metadata": {
    "execution": {
     "iopub.status.busy": "2025-01-08T09:07:42.378727Z",
     "iopub.status.idle": "2025-01-08T09:07:42.378879Z",
     "shell.execute_reply": "2025-01-08T09:07:42.378811Z",
     "shell.execute_reply.started": "2025-01-08T09:07:42.378801Z"
    }
   },
   "outputs": [],
   "source": [
    "# fig, axes = plt.subplots(nrows=2, ncols=2, figsize=(10, 9), sharex=True, sharey=True)\n",
    "# makeFocalPlanePlot(fig, axes, table, camera)\n",
    "# plt.show()"
   ]
  },
  {
   "cell_type": "code",
   "execution_count": 341,
   "id": "bea1df79-feb6-4893-962d-a1757823e6b8",
   "metadata": {
    "execution": {
     "iopub.execute_input": "2024-11-18T15:19:56.340396Z",
     "iopub.status.busy": "2024-11-18T15:19:56.339997Z",
     "iopub.status.idle": "2024-11-18T15:19:56.374496Z",
     "shell.execute_reply": "2024-11-18T15:19:56.374108Z",
     "shell.execute_reply.started": "2024-11-18T15:19:56.340374Z"
    }
   },
   "outputs": [],
   "source": [
    "# fig, axes = plt.subplots(nrows=2, ncols=2, figsize=(10, 9), sharex=True, sharey=True)\n",
    "# makeEquatorialPlot(fig, axes, table, camera)\n",
    "# plt.show()"
   ]
  },
  {
   "cell_type": "code",
   "execution_count": null,
   "id": "c8403f35-9221-449c-9d6d-23e3ca9075ed",
   "metadata": {},
   "outputs": [],
   "source": []
  },
  {
   "cell_type": "code",
   "execution_count": null,
   "id": "dd673548-2bbb-44dc-b72c-7bf40f527b5a",
   "metadata": {},
   "outputs": [],
   "source": []
  },
  {
   "cell_type": "code",
   "execution_count": null,
   "id": "6a2e51df-1cf6-4bb5-8bd8-31332c3923f8",
   "metadata": {},
   "outputs": [],
   "source": []
  },
  {
   "cell_type": "code",
   "execution_count": null,
   "id": "bf05d540-0055-4b58-8729-764ee98c0366",
   "metadata": {},
   "outputs": [],
   "source": []
  },
  {
   "cell_type": "code",
   "execution_count": null,
   "id": "135bfbf0-0a68-4dd4-b04e-aefcb4e75f8b",
   "metadata": {},
   "outputs": [],
   "source": []
  }
 ],
 "metadata": {
  "kernelspec": {
   "display_name": "LSST",
   "language": "python",
   "name": "lsst"
  },
  "language_info": {
   "codemirror_mode": {
    "name": "ipython",
    "version": 3
   },
   "file_extension": ".py",
   "mimetype": "text/x-python",
   "name": "python",
   "nbconvert_exporter": "python",
   "pygments_lexer": "ipython3",
   "version": "3.11.9"
  }
 },
 "nbformat": 4,
 "nbformat_minor": 5
}
