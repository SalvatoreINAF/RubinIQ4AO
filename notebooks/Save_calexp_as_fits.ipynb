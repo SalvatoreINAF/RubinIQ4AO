{
 "cells": [
  {
   "cell_type": "code",
   "execution_count": 1,
   "id": "2938a827-6271-4686-819f-7976cf67a168",
   "metadata": {
    "execution": {
     "iopub.execute_input": "2024-05-27T17:42:06.492425Z",
     "iopub.status.busy": "2024-05-27T17:42:06.492302Z",
     "iopub.status.idle": "2024-05-27T17:42:07.287469Z",
     "shell.execute_reply": "2024-05-27T17:42:07.286977Z",
     "shell.execute_reply.started": "2024-05-27T17:42:06.492413Z"
    },
    "tags": []
   },
   "outputs": [],
   "source": [
    "# from collection_dictionary import collection_dictionary\n",
    "from fits_from_calexp import fits_from_calexp\n",
    "import numpy as np"
   ]
  },
  {
   "cell_type": "code",
   "execution_count": 5,
   "id": "ac2ce061-273f-45ae-bd9e-5028e3e145b3",
   "metadata": {
    "execution": {
     "iopub.execute_input": "2024-05-27T17:42:27.370119Z",
     "iopub.status.busy": "2024-05-27T17:42:27.369647Z",
     "iopub.status.idle": "2024-05-27T17:42:27.372617Z",
     "shell.execute_reply": "2024-05-27T17:42:27.372196Z",
     "shell.execute_reply.started": "2024-05-27T17:42:27.370106Z"
    }
   },
   "outputs": [],
   "source": [
    "# seqnums = [36, 37, 38, 39, 40, 41, 42, 43, 44]\n",
    "# dets = [168, 178, 188, 123, 132, 142, 152, 161, 75, 84, 94, 104, 113, 27, 36, 46, 56, 65, 0, 10, 20]\n",
    "seqnums = [107]\n",
    "detectors = [0]\n",
    "# dets = list(np.arange(189))\n",
    "repofolder = '/sdf/data/rubin/shared/image_quality/imsim/repo'\n",
    "folderout = '/sdf/data/rubin/shared/image_quality/imsim/fits_from_calexp/'"
   ]
  },
  {
   "cell_type": "code",
   "execution_count": 6,
   "id": "7a07be18-3c14-4dea-b24e-c8379fd98e05",
   "metadata": {
    "execution": {
     "iopub.execute_input": "2024-05-27T17:42:27.478306Z",
     "iopub.status.busy": "2024-05-27T17:42:27.478146Z",
     "iopub.status.idle": "2024-05-27T17:42:29.671395Z",
     "shell.execute_reply": "2024-05-27T17:42:29.670834Z",
     "shell.execute_reply.started": "2024-05-27T17:42:27.478293Z"
    }
   },
   "outputs": [],
   "source": [
    "for seqnum in seqnums:\n",
    "    for det in detectors:\n",
    "        fits_from_calexp(seqnum, det, repofolder, folderout, visit_base = 7023071700000)"
   ]
  },
  {
   "cell_type": "code",
   "execution_count": null,
   "id": "fc52a6f7-c553-4145-b466-a1b00f4f3e29",
   "metadata": {},
   "outputs": [],
   "source": []
  }
 ],
 "metadata": {
  "kernelspec": {
   "display_name": "LSST",
   "language": "python",
   "name": "lsst"
  },
  "language_info": {
   "codemirror_mode": {
    "name": "ipython",
    "version": 3
   },
   "file_extension": ".py",
   "mimetype": "text/x-python",
   "name": "python",
   "nbconvert_exporter": "python",
   "pygments_lexer": "ipython3",
   "version": "3.11.7"
  }
 },
 "nbformat": 4,
 "nbformat_minor": 5
}
