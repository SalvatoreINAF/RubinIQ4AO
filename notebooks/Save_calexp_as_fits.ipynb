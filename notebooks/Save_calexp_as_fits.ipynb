{
 "cells": [
  {
   "cell_type": "code",
   "execution_count": 1,
   "id": "2938a827-6271-4686-819f-7976cf67a168",
   "metadata": {
    "execution": {
     "iopub.execute_input": "2024-03-18T12:47:14.606287Z",
     "iopub.status.busy": "2024-03-18T12:47:14.606160Z",
     "iopub.status.idle": "2024-03-18T12:47:15.324706Z",
     "shell.execute_reply": "2024-03-18T12:47:15.324248Z",
     "shell.execute_reply.started": "2024-03-18T12:47:14.606275Z"
    },
    "tags": []
   },
   "outputs": [],
   "source": [
    "# from collection_dictionary import collection_dictionary\n",
    "from fits_from_calexp import fits_from_calexp\n",
    "import numpy as np"
   ]
  },
  {
   "cell_type": "code",
   "execution_count": 2,
   "id": "ac2ce061-273f-45ae-bd9e-5028e3e145b3",
   "metadata": {
    "execution": {
     "iopub.execute_input": "2024-03-18T12:47:15.325410Z",
     "iopub.status.busy": "2024-03-18T12:47:15.325270Z",
     "iopub.status.idle": "2024-03-18T12:47:15.327655Z",
     "shell.execute_reply": "2024-03-18T12:47:15.327311Z",
     "shell.execute_reply.started": "2024-03-18T12:47:15.325397Z"
    }
   },
   "outputs": [],
   "source": [
    "# seqnums = [36, 37, 38, 39, 40, 41, 42, 43, 44]\n",
    "# dets = [168, 178, 188, 123, 132, 142, 152, 161, 75, 84, 94, 104, 113, 27, 36, 46, 56, 65, 0, 10, 20]\n",
    "seqnums = [82]\n",
    "dets = [94]\n",
    "# dets = list(np.arange(189))\n",
    "repofolder = '/sdf/data/rubin/shared/image_quality/imsim/repo'\n",
    "folderout = '/sdf/data/rubin/shared/image_quality/imsim/fits_from_calexp/'"
   ]
  },
  {
   "cell_type": "code",
   "execution_count": 3,
   "id": "7a07be18-3c14-4dea-b24e-c8379fd98e05",
   "metadata": {
    "execution": {
     "iopub.execute_input": "2024-03-18T12:47:15.328240Z",
     "iopub.status.busy": "2024-03-18T12:47:15.328118Z",
     "iopub.status.idle": "2024-03-18T12:47:18.660886Z",
     "shell.execute_reply": "2024-03-18T12:47:18.660443Z",
     "shell.execute_reply.started": "2024-03-18T12:47:15.328229Z"
    }
   },
   "outputs": [],
   "source": [
    "for seqnum in seqnums:\n",
    "    for det in dets:\n",
    "        fits_from_calexp(seqnum, det, repofolder, folderout)"
   ]
  },
  {
   "cell_type": "code",
   "execution_count": null,
   "id": "fc52a6f7-c553-4145-b466-a1b00f4f3e29",
   "metadata": {},
   "outputs": [],
   "source": []
  }
 ],
 "metadata": {
  "kernelspec": {
   "display_name": "LSST",
   "language": "python",
   "name": "lsst"
  },
  "language_info": {
   "codemirror_mode": {
    "name": "ipython",
    "version": 3
   },
   "file_extension": ".py",
   "mimetype": "text/x-python",
   "name": "python",
   "nbconvert_exporter": "python",
   "pygments_lexer": "ipython3",
   "version": "3.11.7"
  }
 },
 "nbformat": 4,
 "nbformat_minor": 5
}
