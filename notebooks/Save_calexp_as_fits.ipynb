{
 "cells": [
  {
   "cell_type": "code",
   "execution_count": 1,
   "id": "2938a827-6271-4686-819f-7976cf67a168",
   "metadata": {
    "execution": {
     "iopub.execute_input": "2024-11-19T10:34:11.324908Z",
     "iopub.status.busy": "2024-11-19T10:34:11.324616Z",
     "iopub.status.idle": "2024-11-19T10:34:12.262100Z",
     "shell.execute_reply": "2024-11-19T10:34:12.261667Z",
     "shell.execute_reply.started": "2024-11-19T10:34:11.324893Z"
    },
    "tags": []
   },
   "outputs": [],
   "source": [
    "# from collection_dictionary_shared import collection_dictionary_shared\n",
    "from fits_from_calexp import fits_from_calexp\n",
    "import numpy as np"
   ]
  },
  {
   "cell_type": "code",
   "execution_count": 2,
   "id": "ac2ce061-273f-45ae-bd9e-5028e3e145b3",
   "metadata": {
    "execution": {
     "iopub.execute_input": "2024-11-19T10:34:12.263018Z",
     "iopub.status.busy": "2024-11-19T10:34:12.262728Z",
     "iopub.status.idle": "2024-11-19T10:34:12.265370Z",
     "shell.execute_reply": "2024-11-19T10:34:12.265013Z",
     "shell.execute_reply.started": "2024-11-19T10:34:12.263004Z"
    }
   },
   "outputs": [],
   "source": [
    "# seqnums = [36, 37, 38, 39, 40, 41, 42, 43, 44]\n",
    "# dets = [168, 178, 188, 123, 132, 142, 152, 161, 75, 84, 94, 104, 113, 27, 36, 46, 56, 65, 0, 10, 20]\n",
    "seqnums = [5023071800125]\n",
    "detectors = [94]\n",
    "# dets = list(np.arange(189))\n",
    "repofolder = '/sdf/data/rubin/shared/image_quality/imsim/repo'\n",
    "folderout = '/sdf/data/rubin/shared/image_quality/imsim/fits_from_calexp/'"
   ]
  },
  {
   "cell_type": "code",
   "execution_count": 3,
   "id": "7a07be18-3c14-4dea-b24e-c8379fd98e05",
   "metadata": {
    "execution": {
     "iopub.execute_input": "2024-11-19T10:34:14.144411Z",
     "iopub.status.busy": "2024-11-19T10:34:14.144162Z",
     "iopub.status.idle": "2024-11-19T10:34:16.417469Z",
     "shell.execute_reply": "2024-11-19T10:34:16.417005Z",
     "shell.execute_reply.started": "2024-11-19T10:34:14.144385Z"
    }
   },
   "outputs": [],
   "source": [
    "for seqnum in seqnums:\n",
    "    for det in detectors:\n",
    "        fits_from_calexp(seqnum, det, repofolder, folderout, visit_base = 0)"
   ]
  },
  {
   "cell_type": "code",
   "execution_count": null,
   "id": "5ef230db-d570-48af-8b46-18cef0747793",
   "metadata": {},
   "outputs": [],
   "source": []
  }
 ],
 "metadata": {
  "kernelspec": {
   "display_name": "LSST",
   "language": "python",
   "name": "lsst"
  },
  "language_info": {
   "codemirror_mode": {
    "name": "ipython",
    "version": 3
   },
   "file_extension": ".py",
   "mimetype": "text/x-python",
   "name": "python",
   "nbconvert_exporter": "python",
   "pygments_lexer": "ipython3",
   "version": "3.11.9"
  }
 },
 "nbformat": 4,
 "nbformat_minor": 5
}
