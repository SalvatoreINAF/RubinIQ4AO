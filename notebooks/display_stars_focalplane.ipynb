{
 "cells": [
  {
   "cell_type": "code",
   "execution_count": 14,
   "id": "fd19cfbd-2e7a-4837-8e87-9f9cec55ae95",
   "metadata": {
    "execution": {
     "iopub.execute_input": "2024-03-11T11:17:26.337943Z",
     "iopub.status.busy": "2024-03-11T11:17:26.337642Z",
     "iopub.status.idle": "2024-03-11T11:17:26.342066Z",
     "shell.execute_reply": "2024-03-11T11:17:26.341696Z",
     "shell.execute_reply.started": "2024-03-11T11:17:26.337929Z"
    }
   },
   "outputs": [],
   "source": [
    "# Import general python packages used by scientists\n",
    "import numpy as np\n",
    "import matplotlib\n",
    "import matplotlib.pyplot as plt\n",
    "import gc\n",
    "import os\n",
    "import pandas as pd\n",
    "\n",
    "# Import packages  Image Access\n",
    "import lsst.daf.butler as dafButler\n",
    "import lsst.geom as geom\n",
    "from lsst.geom import PointD\n",
    "from lsst.geom import Point2D\n",
    "import lsst.afw.display as afwDisplay\n",
    "import lsst.daf.base as dafBase\n",
    "from lsst.daf.butler import Butler\n",
    "import lsst.afw.image as afwImage\n",
    "import lsst.afw.table as afwTable\n",
    "from lsst.afw.geom.ellipses import Quadrupole, SeparableDistortionTraceRadius\n",
    "from lsst.afw import cameraGeom\n",
    "\n",
    "# Import packages for  Catalog Access\n",
    "import pandas\n",
    "pandas.set_option('display.max_rows', 1000)\n",
    "from lsst.rsp import get_tap_service, retrieve_query\n",
    "\n",
    "#Import custom packages\n",
    "from ellipticity_mapping import calculate_ellipticity_on_xy\n",
    "from collection_dictionary_shared import collection_dictionary\n",
    "\n",
    "from datetime import datetime, timedelta\n",
    "from astroplan import Observer\n",
    "from astropy.coordinates import EarthLocation\n",
    "from astropy.time import Time\n",
    "from astropy.wcs import WCS\n",
    "from astropy.coordinates import SkyCoord\n",
    "from pytz import all_timezones #To visualize all the possible timezones\n",
    "from pytz import timezone\n",
    "import datetime\n",
    "import time"
   ]
  },
  {
   "cell_type": "code",
   "execution_count": 15,
   "id": "5d4918a3-d0ba-48a0-9b33-e90c0253da07",
   "metadata": {
    "execution": {
     "iopub.execute_input": "2024-03-11T11:17:26.727722Z",
     "iopub.status.busy": "2024-03-11T11:17:26.727597Z",
     "iopub.status.idle": "2024-03-11T11:17:26.731379Z",
     "shell.execute_reply": "2024-03-11T11:17:26.731048Z",
     "shell.execute_reply.started": "2024-03-11T11:17:26.727710Z"
    }
   },
   "outputs": [],
   "source": [
    "def remove_figure(fig):\n",
    "    \"\"\"\n",
    "    Remove a figure to reduce memory footprint.\n",
    "\n",
    "    Parameters\n",
    "    ----------\n",
    "    fig: matplotlib.figure.Figure\n",
    "        Figure to be removed.\n",
    "\n",
    "    Returns\n",
    "    -------\n",
    "    None\n",
    "    \"\"\"\n",
    "    # get the axes and clear their images\n",
    "    for ax in fig.get_axes():\n",
    "        for im in ax.get_images():\n",
    "            im.remove()\n",
    "    fig.clf()       # clear the figure\n",
    "    plt.close(fig)  # close the figure\n",
    "    gc.collect()    # call the garbage collector\n",
    "    \n",
    "def pixel_to_focal(x, y, det):\n",
    "    \"\"\"\n",
    "    Parameters\n",
    "    ----------\n",
    "    x, y : array\n",
    "        Pixel coordinates.\n",
    "    det : lsst.afw.cameraGeom.Detector\n",
    "        Detector of interest.\n",
    "    Returns\n",
    "    -------\n",
    "    fpx, fpy : array\n",
    "        Focal plane position in millimeters in DVCS\n",
    "        See https://lse-349.lsst.io/\n",
    "    \"\"\"\n",
    "    tx = det.getTransform(cameraGeom.PIXELS, cameraGeom.FOCAL_PLANE)\n",
    "    fpx, fpy = tx.getMapping().applyForward(np.vstack((x, y)))\n",
    "    return fpx.ravel(), fpy.ravel()\n",
    "\n",
    "def pixel_to_focal_angle(x, y, det):\n",
    "    \"\"\"\n",
    "    Parameters\n",
    "    ----------\n",
    "    x, y : array\n",
    "        Pixel coordinates.\n",
    "    det : lsst.afw.cameraGeom.Detector\n",
    "        Detector of interest.\n",
    "    Returns\n",
    "    -------\n",
    "    fpx, fpy : array\n",
    "        Focal plane position in degrees in DVCS\n",
    "        See https://lse-349.lsst.io/\n",
    "    \"\"\"\n",
    "    tx = det.getTransform(cameraGeom.PIXELS, cameraGeom.FIELD_ANGLE)\n",
    "    fpx, fpy = tx.getMapping().applyForward(np.vstack((x, y)))\n",
    "    return np.degrees(fpx.ravel()), np.degrees(fpy.ravel())"
   ]
  },
  {
   "cell_type": "code",
   "execution_count": 16,
   "id": "7dcc3533-dc04-40d1-9eda-1c876e5157f1",
   "metadata": {
    "execution": {
     "iopub.execute_input": "2024-03-11T11:17:27.570633Z",
     "iopub.status.busy": "2024-03-11T11:17:27.570460Z",
     "iopub.status.idle": "2024-03-11T11:17:27.573888Z",
     "shell.execute_reply": "2024-03-11T11:17:27.573506Z",
     "shell.execute_reply.started": "2024-03-11T11:17:27.570618Z"
    }
   },
   "outputs": [
    {
     "name": "stdout",
     "output_type": "stream",
     "text": [
      "potrei leggere queste cose da yaml???\n"
     ]
    }
   ],
   "source": [
    "print(\"potrei leggere queste cose da yaml???\")\n",
    "seqnums = [36, 37, 38, 39, 40, 41, 42, 43, 44]\n",
    "detectors = [168, 178, 188, 123, 132, 142, 152, 161, 75, 84, 94, 104, 113, 27, 36, 46, 56, 65, 0, 10, 20]\n",
    "# seqnums = [53]\n",
    "# detectors = list(np.arange(189))\n",
    "seqnums = [61]\n",
    "detectors = [168, 178, 84, 94, 10, 20]\n",
    "format_figures = 'png'"
   ]
  },
  {
   "cell_type": "code",
   "execution_count": 17,
   "id": "1373798b-2af2-470e-986a-367b2dc0197f",
   "metadata": {
    "execution": {
     "iopub.execute_input": "2024-03-11T11:17:28.256341Z",
     "iopub.status.busy": "2024-03-11T11:17:28.255923Z",
     "iopub.status.idle": "2024-03-11T11:17:28.258377Z",
     "shell.execute_reply": "2024-03-11T11:17:28.258035Z",
     "shell.execute_reply.started": "2024-03-11T11:17:28.256325Z"
    }
   },
   "outputs": [],
   "source": [
    "collection_dict = collection_dictionary()\n",
    "collection_dict_seqnum61_gains = {61: 'pipetask_output/20240311T104052Z'}\n",
    "collection_dict_seqnum61_nogains = {61: 'pipetask_output/20240311T104944Z'}"
   ]
  },
  {
   "cell_type": "code",
   "execution_count": 18,
   "id": "668f3b23-528d-4d41-9b45-d10042d87926",
   "metadata": {
    "execution": {
     "iopub.execute_input": "2024-03-11T11:17:30.042475Z",
     "iopub.status.busy": "2024-03-11T11:17:30.042234Z",
     "iopub.status.idle": "2024-03-11T11:17:30.044880Z",
     "shell.execute_reply": "2024-03-11T11:17:30.044534Z",
     "shell.execute_reply.started": "2024-03-11T11:17:30.042459Z"
    }
   },
   "outputs": [],
   "source": [
    "folder = '/sdf/data/rubin/shared/image_quality/imsim/'\n",
    "#Define the butler data configuration and collection (una tantum )\n",
    "config = folder+'repo'\n",
    "folderout = folder+'ellipticitymap/'\n",
    "subfolderout_fig = 'figures/'\n",
    "subfolderout_tab = 'tables/'"
   ]
  },
  {
   "cell_type": "code",
   "execution_count": 20,
   "id": "a74fb4c8-3df9-4b6b-8dc6-2cd81c53d762",
   "metadata": {
    "execution": {
     "iopub.execute_input": "2024-03-11T11:17:57.973278Z",
     "iopub.status.busy": "2024-03-11T11:17:57.973016Z",
     "iopub.status.idle": "2024-03-11T11:18:03.487782Z",
     "shell.execute_reply": "2024-03-11T11:18:03.487261Z",
     "shell.execute_reply.started": "2024-03-11T11:17:57.973264Z"
    }
   },
   "outputs": [],
   "source": [
    "for seqnum in seqnums:\n",
    "\n",
    "    fpxs = []\n",
    "    fpys = []\n",
    "    mags = []\n",
    "    \n",
    "    for detector in detectors:\n",
    "        \n",
    "        visit_seqnum = 5023071800000 + seqnum        \n",
    "        collection = collection_dict_seqnum61_nogains[seqnum]\n",
    "\n",
    "        # Create the butler\n",
    "        butler = dafButler.Butler(config,collections=collection)\n",
    "\n",
    "        #Adesso dobbiammo dire al butler che tipo di dati vogliamo.\n",
    "        #La call si fa chiedendo un datasetType (e.g., deepCoadd, calexp, objectTable) e un data ID(is a dictionary-like identifier for a specific data product)\n",
    "        #Qui piu' informazioni sul butler \n",
    "        #https://github.com/rubin-dp0/tutorial-notebooks/blob/main/04b_Intermediate_Butler_Queries.ipynb\n",
    "\n",
    "        datasetType='calexp'\n",
    "        dataId = {'visit': visit_seqnum, 'detector': detector, 'band':'r'}\n",
    "        calexp = butler.get(datasetType, **dataId)\n",
    "        sources = butler.get('src', dataId)\n",
    "        ccd = calexp.detector.getId()\n",
    "        det = calexp.getDetector()\n",
    "        wcs = calexp.getWcs()\n",
    "        calexp_info = calexp.getInfo()\n",
    "        \n",
    "        xx = [l.getCentroid()[0] for l in sources]\n",
    "        yy = [l.getCentroid()[1] for l in sources]\n",
    "        mag = [l['base_PsfFlux_instFlux'] for l in sources]\n",
    "\n",
    "        fpx = []\n",
    "        fpy = []\n",
    "        for xxx, yyy in zip(xx, yy):\n",
    "            fpx_temp, fpy_temp = pixel_to_focal_angle(xxx, yyy, det)\n",
    "            fpx.append(fpx_temp[0])\n",
    "            fpy.append(fpy_temp[0])\n",
    "\n",
    "        fpxs.append(fpx)\n",
    "        fpys.append(fpy)\n",
    "        mags.append(mag)\n",
    "\n",
    "    mags_final = [i for sublist in mags for i in sublist]\n",
    "    fpxs_final = [i for sublist in fpys for i in sublist] # INVERSIONE XY\n",
    "    fpys_final = [i for sublist in fpxs for i in sublist] # INVERSIONE XY\n",
    "\n",
    "    fig = plt.figure(figsize=(18, 18))\n",
    "    plt.scatter(fpxs_final, fpys_final, c=mags_final, s=1)\n",
    "    plt.colorbar()\n",
    "    plt.xlabel('x [deg]')\n",
    "    plt.ylabel('y [deg]')\n",
    "    plt.title('PSF counts')\n",
    "    fig.savefig(folderout+\"figures/PSF_counts_seqnum{:04d}_nogain.{:s}\".format(seqnum,format_figures))\n",
    "    remove_figure(fig)"
   ]
  },
  {
   "cell_type": "code",
   "execution_count": null,
   "id": "d4df9237-dc53-44fd-bb1c-7e6f7b767b4f",
   "metadata": {},
   "outputs": [],
   "source": []
  },
  {
   "cell_type": "code",
   "execution_count": null,
   "id": "c5208c83-6b56-48e8-acee-2b3eb0106931",
   "metadata": {},
   "outputs": [],
   "source": []
  }
 ],
 "metadata": {
  "kernelspec": {
   "display_name": "LSST",
   "language": "python",
   "name": "lsst"
  },
  "language_info": {
   "codemirror_mode": {
    "name": "ipython",
    "version": 3
   },
   "file_extension": ".py",
   "mimetype": "text/x-python",
   "name": "python",
   "nbconvert_exporter": "python",
   "pygments_lexer": "ipython3",
   "version": "3.11.7"
  }
 },
 "nbformat": 4,
 "nbformat_minor": 5
}
