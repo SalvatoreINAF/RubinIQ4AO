{
 "cells": [
  {
   "cell_type": "code",
   "execution_count": 1,
   "id": "3a10cdb2-2615-4953-85b1-6e712e2d69ce",
   "metadata": {
    "execution": {
     "iopub.execute_input": "2024-09-24T12:02:20.291133Z",
     "iopub.status.busy": "2024-09-24T12:02:20.291004Z",
     "iopub.status.idle": "2024-09-24T12:02:21.698906Z",
     "shell.execute_reply": "2024-09-24T12:02:21.698458Z",
     "shell.execute_reply.started": "2024-09-24T12:02:20.291120Z"
    }
   },
   "outputs": [],
   "source": [
    "from ellipticity_mapping import plot_ellipticitymap\n",
    "import pandas as pd\n",
    "import numpy as np"
   ]
  },
  {
   "cell_type": "code",
   "execution_count": 26,
   "id": "9e308bde-6c46-473e-a43e-709fcd5249e2",
   "metadata": {
    "execution": {
     "iopub.execute_input": "2024-09-24T12:07:12.548680Z",
     "iopub.status.busy": "2024-09-24T12:07:12.548108Z",
     "iopub.status.idle": "2024-09-24T12:07:12.550857Z",
     "shell.execute_reply": "2024-09-24T12:07:12.550500Z",
     "shell.execute_reply.started": "2024-09-24T12:07:12.548663Z"
    }
   },
   "outputs": [],
   "source": [
    "folder = '/home/v/vittorio/image_quality_shared/imsim/ellipticitymap/Ricardo/'\n",
    "filein = 'ellip_M2ry_22.5_s0.1.log'"
   ]
  },
  {
   "cell_type": "code",
   "execution_count": 27,
   "id": "f99c506a-5f95-4f81-8f04-af8e02e65292",
   "metadata": {
    "execution": {
     "iopub.execute_input": "2024-09-24T12:07:12.688973Z",
     "iopub.status.busy": "2024-09-24T12:07:12.688656Z",
     "iopub.status.idle": "2024-09-24T12:07:12.693197Z",
     "shell.execute_reply": "2024-09-24T12:07:12.692808Z",
     "shell.execute_reply.started": "2024-09-24T12:07:12.688960Z"
    }
   },
   "outputs": [
    {
     "name": "stderr",
     "output_type": "stream",
     "text": [
      "/tmp/ipykernel_13573/165228298.py:1: FutureWarning: The 'delim_whitespace' keyword in pd.read_csv is deprecated and will be removed in a future version. Use ``sep='\\s+'`` instead\n",
      "  df = pd.read_csv(folder+filein, delim_whitespace=True)\n"
     ]
    }
   ],
   "source": [
    "df = pd.read_csv(folder+filein, delim_whitespace=True)\n",
    "df.rename(columns={'#x': 'x'}, inplace=True)"
   ]
  },
  {
   "cell_type": "code",
   "execution_count": 28,
   "id": "16114b47-51c8-4938-8c35-ff119f8f43ec",
   "metadata": {
    "execution": {
     "iopub.execute_input": "2024-09-24T12:07:12.876112Z",
     "iopub.status.busy": "2024-09-24T12:07:12.875773Z",
     "iopub.status.idle": "2024-09-24T12:07:12.878748Z",
     "shell.execute_reply": "2024-09-24T12:07:12.878389Z",
     "shell.execute_reply.started": "2024-09-24T12:07:12.876098Z"
    }
   },
   "outputs": [],
   "source": [
    "ex = df.el.values * np.cos(np.radians(df.pa.values))\n",
    "ey = df.el.values * np.sin(np.radians(df.pa.values))"
   ]
  },
  {
   "cell_type": "code",
   "execution_count": 30,
   "id": "c2cc6561-b30e-41d2-b360-3ed1b71b26ad",
   "metadata": {
    "execution": {
     "iopub.execute_input": "2024-09-24T12:08:05.377411Z",
     "iopub.status.busy": "2024-09-24T12:08:05.376986Z",
     "iopub.status.idle": "2024-09-24T12:08:05.566757Z",
     "shell.execute_reply": "2024-09-24T12:08:05.566397Z",
     "shell.execute_reply.started": "2024-09-24T12:08:05.377393Z"
    }
   },
   "outputs": [],
   "source": [
    "plot_ellipticitymap(df.x.values, df.y.values, ex, ey, df.el.values, folder+filein+'.png', clim_min=0, clim_max=.5, scale=5.)"
   ]
  },
  {
   "cell_type": "code",
   "execution_count": null,
   "id": "9c9d9305-1816-422e-9b54-796b535aafd2",
   "metadata": {},
   "outputs": [],
   "source": []
  },
  {
   "cell_type": "code",
   "execution_count": null,
   "id": "dcb643e9-6a87-417a-ba56-ee941c4f7414",
   "metadata": {},
   "outputs": [],
   "source": []
  }
 ],
 "metadata": {
  "kernelspec": {
   "display_name": "LSST",
   "language": "python",
   "name": "lsst"
  },
  "language_info": {
   "codemirror_mode": {
    "name": "ipython",
    "version": 3
   },
   "file_extension": ".py",
   "mimetype": "text/x-python",
   "name": "python",
   "nbconvert_exporter": "python",
   "pygments_lexer": "ipython3",
   "version": "3.11.9"
  }
 },
 "nbformat": 4,
 "nbformat_minor": 5
}
