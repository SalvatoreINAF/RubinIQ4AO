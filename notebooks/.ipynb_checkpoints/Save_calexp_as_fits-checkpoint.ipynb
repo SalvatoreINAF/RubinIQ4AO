{
 "cells": [
  {
   "cell_type": "code",
   "execution_count": 6,
   "id": "2938a827-6271-4686-819f-7976cf67a168",
   "metadata": {
    "execution": {
     "iopub.execute_input": "2024-02-21T17:55:39.224853Z",
     "iopub.status.busy": "2024-02-21T17:55:39.224565Z",
     "iopub.status.idle": "2024-02-21T17:55:39.227135Z",
     "shell.execute_reply": "2024-02-21T17:55:39.226767Z",
     "shell.execute_reply.started": "2024-02-21T17:55:39.224839Z"
    },
    "tags": []
   },
   "outputs": [],
   "source": [
    "# from collection_dictionary import collection_dictionary\n",
    "from fits_from_calexp import fits_from_calexp"
   ]
  },
  {
   "cell_type": "code",
   "execution_count": 7,
   "id": "ac2ce061-273f-45ae-bd9e-5028e3e145b3",
   "metadata": {
    "execution": {
     "iopub.execute_input": "2024-02-21T17:55:39.952315Z",
     "iopub.status.busy": "2024-02-21T17:55:39.952029Z",
     "iopub.status.idle": "2024-02-21T17:55:39.955901Z",
     "shell.execute_reply": "2024-02-21T17:55:39.955459Z",
     "shell.execute_reply.started": "2024-02-21T17:55:39.952301Z"
    }
   },
   "outputs": [],
   "source": [
    "seqnums = [36, 37, 38, 39, 40, 41, 42, 43, 44]\n",
    "dets = [168, 178, 188, 123, 132, 142, 152, 161, 75, 84, 94, 104, 113, 27, 36, 46, 56, 65, 0, 10, 20]\n",
    "seqnums = [51]\n",
    "dets = [168, 178, 188, 123, 132, 142, 152, 161, 75, 84, 94, 104, 113, 27, 36, 46, 56, 65, 0, 10, 20]\n",
    "# repofolder = '/sdf/data/rubin/shared/image_quality/imsim/repo'\n",
    "# folderout = '/sdf/data/rubin/shared/image_quality/imsim/fits_from_calexp/'\n",
    "repofolder = '/sdf/data/rubin/shared/image_quality/imsim/repo'\n",
    "folderout = '/sdf/data/rubin/shared/image_quality/imsim/fits_from_calexp/'"
   ]
  },
  {
   "cell_type": "code",
   "execution_count": 5,
   "id": "7a07be18-3c14-4dea-b24e-c8379fd98e05",
   "metadata": {
    "execution": {
     "iopub.execute_input": "2024-02-21T17:11:28.008948Z",
     "iopub.status.busy": "2024-02-21T17:11:28.008791Z",
     "iopub.status.idle": "2024-02-21T17:11:28.385158Z",
     "shell.execute_reply": "2024-02-21T17:11:28.384442Z",
     "shell.execute_reply.started": "2024-02-21T17:11:28.008934Z"
    }
   },
   "outputs": [
    {
     "ename": "KeyError",
     "evalue": "\"No value in data ID ({'visit': 5023071800051, 'detector': 168, 'band': 'r'}) for required dimension 'instrument'.\"",
     "output_type": "error",
     "traceback": [
      "\u001b[0;31m---------------------------------------------------------------------------\u001b[0m",
      "\u001b[0;31mKeyError\u001b[0m                                  Traceback (most recent call last)",
      "File \u001b[0;32m/opt/lsst/software/stack/stack/miniconda3-py38_4.9.2-8.0.0/Linux64/daf_butler/g6af44e7a1a+043fa2f30f/python/lsst/daf/butler/dimensions/_coordinate.py:295\u001b[0m, in \u001b[0;36mDataCoordinate.standardize\u001b[0;34m(***failed resolving arguments***)\u001b[0m\n\u001b[1;32m    294\u001b[0m \u001b[38;5;28;01mtry\u001b[39;00m:\n\u001b[0;32m--> 295\u001b[0m     values \u001b[38;5;241m=\u001b[39m \u001b[38;5;28;43mtuple\u001b[39;49m\u001b[43m(\u001b[49m\u001b[43mnew_mapping\u001b[49m\u001b[43m[\u001b[49m\u001b[43mname\u001b[49m\u001b[43m]\u001b[49m\u001b[43m \u001b[49m\u001b[38;5;28;43;01mfor\u001b[39;49;00m\u001b[43m \u001b[49m\u001b[43mname\u001b[49m\u001b[43m \u001b[49m\u001b[38;5;129;43;01min\u001b[39;49;00m\u001b[43m \u001b[49m\u001b[43mdimensions\u001b[49m\u001b[38;5;241;43m.\u001b[39;49m\u001b[43mrequired\u001b[49m\u001b[43m)\u001b[49m\n\u001b[1;32m    296\u001b[0m \u001b[38;5;28;01mexcept\u001b[39;00m \u001b[38;5;167;01mKeyError\u001b[39;00m \u001b[38;5;28;01mas\u001b[39;00m err:\n",
      "File \u001b[0;32m/opt/lsst/software/stack/stack/miniconda3-py38_4.9.2-8.0.0/Linux64/daf_butler/g6af44e7a1a+043fa2f30f/python/lsst/daf/butler/dimensions/_coordinate.py:295\u001b[0m, in \u001b[0;36m<genexpr>\u001b[0;34m(.0)\u001b[0m\n\u001b[1;32m    294\u001b[0m \u001b[38;5;28;01mtry\u001b[39;00m:\n\u001b[0;32m--> 295\u001b[0m     values \u001b[38;5;241m=\u001b[39m \u001b[38;5;28mtuple\u001b[39m(\u001b[43mnew_mapping\u001b[49m\u001b[43m[\u001b[49m\u001b[43mname\u001b[49m\u001b[43m]\u001b[49m \u001b[38;5;28;01mfor\u001b[39;00m name \u001b[38;5;129;01min\u001b[39;00m dimensions\u001b[38;5;241m.\u001b[39mrequired)\n\u001b[1;32m    296\u001b[0m \u001b[38;5;28;01mexcept\u001b[39;00m \u001b[38;5;167;01mKeyError\u001b[39;00m \u001b[38;5;28;01mas\u001b[39;00m err:\n",
      "\u001b[0;31mKeyError\u001b[0m: 'instrument'",
      "\nThe above exception was the direct cause of the following exception:\n",
      "\u001b[0;31mKeyError\u001b[0m                                  Traceback (most recent call last)",
      "Cell \u001b[0;32mIn[5], line 3\u001b[0m\n\u001b[1;32m      1\u001b[0m \u001b[38;5;28;01mfor\u001b[39;00m seqnum \u001b[38;5;129;01min\u001b[39;00m seqnums:\n\u001b[1;32m      2\u001b[0m     \u001b[38;5;28;01mfor\u001b[39;00m det \u001b[38;5;129;01min\u001b[39;00m dets:\n\u001b[0;32m----> 3\u001b[0m         \u001b[43mfits_from_calexp\u001b[49m\u001b[43m(\u001b[49m\u001b[43mseqnum\u001b[49m\u001b[43m,\u001b[49m\u001b[43m \u001b[49m\u001b[43mdet\u001b[49m\u001b[43m,\u001b[49m\u001b[43m \u001b[49m\u001b[43mrepofolder\u001b[49m\u001b[43m,\u001b[49m\u001b[43m \u001b[49m\u001b[43mfolderout\u001b[49m\u001b[43m)\u001b[49m\n",
      "File \u001b[0;32m/sdf/data/rubin/user/vittorio/projects/imsim_2024_03/imSim/github/RubinIQ4AO/notebooks/fits_from_calexp.py:19\u001b[0m, in \u001b[0;36mfits_from_calexp\u001b[0;34m(seqnum, det, repofolder, folderout)\u001b[0m\n\u001b[1;32m     17\u001b[0m datasetType\u001b[38;5;241m=\u001b[39m\u001b[38;5;124m'\u001b[39m\u001b[38;5;124mcalexp\u001b[39m\u001b[38;5;124m'\u001b[39m\n\u001b[1;32m     18\u001b[0m dataId \u001b[38;5;241m=\u001b[39m {\u001b[38;5;124m'\u001b[39m\u001b[38;5;124mvisit\u001b[39m\u001b[38;5;124m'\u001b[39m: visit_seqnum, \u001b[38;5;124m'\u001b[39m\u001b[38;5;124mdetector\u001b[39m\u001b[38;5;124m'\u001b[39m: det, \u001b[38;5;124m'\u001b[39m\u001b[38;5;124mband\u001b[39m\u001b[38;5;124m'\u001b[39m:\u001b[38;5;124m'\u001b[39m\u001b[38;5;124mr\u001b[39m\u001b[38;5;124m'\u001b[39m}\n\u001b[0;32m---> 19\u001b[0m calexp \u001b[38;5;241m=\u001b[39m \u001b[43mbutler\u001b[49m\u001b[38;5;241;43m.\u001b[39;49m\u001b[43mget\u001b[49m\u001b[43m(\u001b[49m\u001b[43mdatasetType\u001b[49m\u001b[43m,\u001b[49m\u001b[43m \u001b[49m\u001b[38;5;241;43m*\u001b[39;49m\u001b[38;5;241;43m*\u001b[39;49m\u001b[43mdataId\u001b[49m\u001b[43m)\u001b[49m\n\u001b[1;32m     21\u001b[0m calexp_image \u001b[38;5;241m=\u001b[39m calexp\u001b[38;5;241m.\u001b[39mimage\n\u001b[1;32m     22\u001b[0m calexp_image\u001b[38;5;241m.\u001b[39mwriteFits(folderout\u001b[38;5;241m+\u001b[39m\u001b[38;5;124m'\u001b[39m\u001b[38;5;124mimsim_fits_from_calexp_seqnum\u001b[39m\u001b[38;5;132;01m{:04d}\u001b[39;00m\u001b[38;5;124m_det\u001b[39m\u001b[38;5;132;01m{:03d}\u001b[39;00m\u001b[38;5;124m'\u001b[39m\u001b[38;5;241m.\u001b[39mformat(seqnum, det)\u001b[38;5;241m+\u001b[39m\u001b[38;5;124m'\u001b[39m\u001b[38;5;124m.fits\u001b[39m\u001b[38;5;124m'\u001b[39m)\n",
      "File \u001b[0;32m/opt/lsst/software/stack/stack/miniconda3-py38_4.9.2-8.0.0/Linux64/daf_butler/g6af44e7a1a+043fa2f30f/python/lsst/daf/butler/direct_butler.py:1126\u001b[0m, in \u001b[0;36mDirectButler.get\u001b[0;34m(self, datasetRefOrType, dataId, parameters, collections, storageClass, **kwargs)\u001b[0m\n\u001b[1;32m   1072\u001b[0m \u001b[38;5;250m\u001b[39m\u001b[38;5;124;03m\"\"\"Retrieve a stored dataset.\u001b[39;00m\n\u001b[1;32m   1073\u001b[0m \n\u001b[1;32m   1074\u001b[0m \u001b[38;5;124;03mParameters\u001b[39;00m\n\u001b[0;32m   (...)\u001b[0m\n\u001b[1;32m   1123\u001b[0m \u001b[38;5;124;03m``exposure`` is a temporal dimension.\u001b[39;00m\n\u001b[1;32m   1124\u001b[0m \u001b[38;5;124;03m\"\"\"\u001b[39;00m\n\u001b[1;32m   1125\u001b[0m _LOG\u001b[38;5;241m.\u001b[39mdebug(\u001b[38;5;124m\"\u001b[39m\u001b[38;5;124mButler get: \u001b[39m\u001b[38;5;132;01m%s\u001b[39;00m\u001b[38;5;124m, dataId=\u001b[39m\u001b[38;5;132;01m%s\u001b[39;00m\u001b[38;5;124m, parameters=\u001b[39m\u001b[38;5;132;01m%s\u001b[39;00m\u001b[38;5;124m\"\u001b[39m, datasetRefOrType, dataId, parameters)\n\u001b[0;32m-> 1126\u001b[0m ref \u001b[38;5;241m=\u001b[39m \u001b[38;5;28;43mself\u001b[39;49m\u001b[38;5;241;43m.\u001b[39;49m\u001b[43m_findDatasetRef\u001b[49m\u001b[43m(\u001b[49m\n\u001b[1;32m   1127\u001b[0m \u001b[43m    \u001b[49m\u001b[43mdatasetRefOrType\u001b[49m\u001b[43m,\u001b[49m\u001b[43m \u001b[49m\u001b[43mdataId\u001b[49m\u001b[43m,\u001b[49m\u001b[43m \u001b[49m\u001b[43mcollections\u001b[49m\u001b[38;5;241;43m=\u001b[39;49m\u001b[43mcollections\u001b[49m\u001b[43m,\u001b[49m\u001b[43m \u001b[49m\u001b[43mdatastore_records\u001b[49m\u001b[38;5;241;43m=\u001b[39;49m\u001b[38;5;28;43;01mTrue\u001b[39;49;00m\u001b[43m,\u001b[49m\u001b[43m \u001b[49m\u001b[38;5;241;43m*\u001b[39;49m\u001b[38;5;241;43m*\u001b[39;49m\u001b[43mkwargs\u001b[49m\n\u001b[1;32m   1128\u001b[0m \u001b[43m\u001b[49m\u001b[43m)\u001b[49m\n\u001b[1;32m   1129\u001b[0m \u001b[38;5;28;01mreturn\u001b[39;00m \u001b[38;5;28mself\u001b[39m\u001b[38;5;241m.\u001b[39m_datastore\u001b[38;5;241m.\u001b[39mget(ref, parameters\u001b[38;5;241m=\u001b[39mparameters, storageClass\u001b[38;5;241m=\u001b[39mstorageClass)\n",
      "File \u001b[0;32m/opt/lsst/software/stack/stack/miniconda3-py38_4.9.2-8.0.0/Linux64/daf_butler/g6af44e7a1a+043fa2f30f/python/lsst/daf/butler/direct_butler.py:869\u001b[0m, in \u001b[0;36mDirectButler._findDatasetRef\u001b[0;34m(self, datasetRefOrType, dataId, collections, predict, run, datastore_records, **kwargs)\u001b[0m\n\u001b[1;32m    864\u001b[0m         timespan \u001b[38;5;241m=\u001b[39m dataId\u001b[38;5;241m.\u001b[39mtimespan\n\u001b[1;32m    865\u001b[0m \u001b[38;5;28;01melse\u001b[39;00m:\n\u001b[1;32m    866\u001b[0m     \u001b[38;5;66;03m# Standardize the data ID to just the dimensions of the dataset\u001b[39;00m\n\u001b[1;32m    867\u001b[0m     \u001b[38;5;66;03m# type instead of letting registry.findDataset do it, so we get the\u001b[39;00m\n\u001b[1;32m    868\u001b[0m     \u001b[38;5;66;03m# result even if no dataset is found.\u001b[39;00m\n\u001b[0;32m--> 869\u001b[0m     dataId \u001b[38;5;241m=\u001b[39m \u001b[43mDataCoordinate\u001b[49m\u001b[38;5;241;43m.\u001b[39;49m\u001b[43mstandardize\u001b[49m\u001b[43m(\u001b[49m\n\u001b[1;32m    870\u001b[0m \u001b[43m        \u001b[49m\u001b[43mdataId\u001b[49m\u001b[43m,\u001b[49m\n\u001b[1;32m    871\u001b[0m \u001b[43m        \u001b[49m\u001b[43mdimensions\u001b[49m\u001b[38;5;241;43m=\u001b[39;49m\u001b[43mdatasetType\u001b[49m\u001b[38;5;241;43m.\u001b[39;49m\u001b[43mdimensions\u001b[49m\u001b[43m,\u001b[49m\n\u001b[1;32m    872\u001b[0m \u001b[43m        \u001b[49m\u001b[43mdefaults\u001b[49m\u001b[38;5;241;43m=\u001b[39;49m\u001b[38;5;28;43mself\u001b[39;49m\u001b[38;5;241;43m.\u001b[39;49m\u001b[43m_registry\u001b[49m\u001b[38;5;241;43m.\u001b[39;49m\u001b[43mdefaults\u001b[49m\u001b[38;5;241;43m.\u001b[39;49m\u001b[43mdataId\u001b[49m\u001b[43m,\u001b[49m\n\u001b[1;32m    873\u001b[0m \u001b[43m        \u001b[49m\u001b[38;5;241;43m*\u001b[39;49m\u001b[38;5;241;43m*\u001b[39;49m\u001b[43mkwargs\u001b[49m\u001b[43m,\u001b[49m\n\u001b[1;32m    874\u001b[0m \u001b[43m    \u001b[49m\u001b[43m)\u001b[49m\n\u001b[1;32m    875\u001b[0m \u001b[38;5;66;03m# Always lookup the DatasetRef, even if one is given, to ensure it is\u001b[39;00m\n\u001b[1;32m    876\u001b[0m \u001b[38;5;66;03m# present in the current collection.\u001b[39;00m\n\u001b[1;32m    877\u001b[0m ref \u001b[38;5;241m=\u001b[39m \u001b[38;5;28mself\u001b[39m\u001b[38;5;241m.\u001b[39mfind_dataset(\n\u001b[1;32m    878\u001b[0m     datasetType,\n\u001b[1;32m    879\u001b[0m     dataId,\n\u001b[0;32m   (...)\u001b[0m\n\u001b[1;32m    882\u001b[0m     datastore_records\u001b[38;5;241m=\u001b[39mdatastore_records,\n\u001b[1;32m    883\u001b[0m )\n",
      "File \u001b[0;32m/opt/lsst/software/stack/stack/miniconda3-py38_4.9.2-8.0.0/Linux64/daf_butler/g6af44e7a1a+043fa2f30f/python/lsst/daf/butler/dimensions/_coordinate.py:297\u001b[0m, in \u001b[0;36mDataCoordinate.standardize\u001b[0;34m(***failed resolving arguments***)\u001b[0m\n\u001b[1;32m    295\u001b[0m     values \u001b[38;5;241m=\u001b[39m \u001b[38;5;28mtuple\u001b[39m(new_mapping[name] \u001b[38;5;28;01mfor\u001b[39;00m name \u001b[38;5;129;01min\u001b[39;00m dimensions\u001b[38;5;241m.\u001b[39mrequired)\n\u001b[1;32m    296\u001b[0m \u001b[38;5;28;01mexcept\u001b[39;00m \u001b[38;5;167;01mKeyError\u001b[39;00m \u001b[38;5;28;01mas\u001b[39;00m err:\n\u001b[0;32m--> 297\u001b[0m     \u001b[38;5;28;01mraise\u001b[39;00m \u001b[38;5;167;01mKeyError\u001b[39;00m(\u001b[38;5;124mf\u001b[39m\u001b[38;5;124m\"\u001b[39m\u001b[38;5;124mNo value in data ID (\u001b[39m\u001b[38;5;132;01m{\u001b[39;00mmapping\u001b[38;5;132;01m}\u001b[39;00m\u001b[38;5;124m) for required dimension \u001b[39m\u001b[38;5;132;01m{\u001b[39;00merr\u001b[38;5;132;01m}\u001b[39;00m\u001b[38;5;124m.\u001b[39m\u001b[38;5;124m\"\u001b[39m) \u001b[38;5;28;01mfrom\u001b[39;00m \u001b[38;5;21;01merr\u001b[39;00m\n\u001b[1;32m    298\u001b[0m \u001b[38;5;28;01mreturn\u001b[39;00m DataCoordinate\u001b[38;5;241m.\u001b[39mfrom_required_values(dimensions, values)\n",
      "\u001b[0;31mKeyError\u001b[0m: \"No value in data ID ({'visit': 5023071800051, 'detector': 168, 'band': 'r'}) for required dimension 'instrument'.\""
     ]
    }
   ],
   "source": [
    "for seqnum in seqnums:\n",
    "    for det in dets:\n",
    "        fits_from_calexp(seqnum, det, repofolder, folderout)"
   ]
  },
  {
   "cell_type": "code",
   "execution_count": null,
   "id": "fc52a6f7-c553-4145-b466-a1b00f4f3e29",
   "metadata": {},
   "outputs": [],
   "source": []
  }
 ],
 "metadata": {
  "kernelspec": {
   "display_name": "LSST",
   "language": "python",
   "name": "lsst"
  },
  "language_info": {
   "codemirror_mode": {
    "name": "ipython",
    "version": 3
   },
   "file_extension": ".py",
   "mimetype": "text/x-python",
   "name": "python",
   "nbconvert_exporter": "python",
   "pygments_lexer": "ipython3",
   "version": "3.11.7"
  }
 },
 "nbformat": 4,
 "nbformat_minor": 5
}
