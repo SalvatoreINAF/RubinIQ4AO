{
 "cells": [
  {
   "cell_type": "code",
   "execution_count": 1,
   "id": "2938a827-6271-4686-819f-7976cf67a168",
   "metadata": {
    "execution": {
     "iopub.execute_input": "2024-04-09T11:15:12.614768Z",
     "iopub.status.busy": "2024-04-09T11:15:12.614203Z",
     "iopub.status.idle": "2024-04-09T11:15:13.243952Z",
     "shell.execute_reply": "2024-04-09T11:15:13.243523Z",
     "shell.execute_reply.started": "2024-04-09T11:15:12.614752Z"
    },
    "tags": []
   },
   "outputs": [],
   "source": [
    "# from collection_dictionary import collection_dictionary\n",
    "from fits_from_calexp import fits_from_calexp\n",
    "import numpy as np"
   ]
  },
  {
   "cell_type": "code",
   "execution_count": 2,
   "id": "ac2ce061-273f-45ae-bd9e-5028e3e145b3",
   "metadata": {
    "execution": {
     "iopub.execute_input": "2024-04-09T11:15:13.244862Z",
     "iopub.status.busy": "2024-04-09T11:15:13.244730Z",
     "iopub.status.idle": "2024-04-09T11:15:13.247250Z",
     "shell.execute_reply": "2024-04-09T11:15:13.246882Z",
     "shell.execute_reply.started": "2024-04-09T11:15:13.244849Z"
    }
   },
   "outputs": [],
   "source": [
    "# seqnums = [36, 37, 38, 39, 40, 41, 42, 43, 44]\n",
    "# dets = [168, 178, 188, 123, 132, 142, 152, 161, 75, 84, 94, 104, 113, 27, 36, 46, 56, 65, 0, 10, 20]\n",
    "seqnums = [83, 84, 85, 86]\n",
    "detectors = [36, 56, 143]\n",
    "# dets = list(np.arange(189))\n",
    "repofolder = '/sdf/data/rubin/shared/image_quality/imsim/repo'\n",
    "folderout = '/sdf/data/rubin/shared/image_quality/imsim/fits_from_calexp/'"
   ]
  },
  {
   "cell_type": "code",
   "execution_count": 3,
   "id": "7a07be18-3c14-4dea-b24e-c8379fd98e05",
   "metadata": {
    "execution": {
     "iopub.execute_input": "2024-04-09T11:15:13.254496Z",
     "iopub.status.busy": "2024-04-09T11:15:13.254367Z",
     "iopub.status.idle": "2024-04-09T11:15:13.466327Z",
     "shell.execute_reply": "2024-04-09T11:15:13.465683Z",
     "shell.execute_reply.started": "2024-04-09T11:15:13.254484Z"
    }
   },
   "outputs": [
    {
     "ename": "NameError",
     "evalue": "name 'dets' is not defined",
     "output_type": "error",
     "traceback": [
      "\u001b[0;31m---------------------------------------------------------------------------\u001b[0m",
      "\u001b[0;31mNameError\u001b[0m                                 Traceback (most recent call last)",
      "Cell \u001b[0;32mIn[3], line 2\u001b[0m\n\u001b[1;32m      1\u001b[0m \u001b[38;5;28;01mfor\u001b[39;00m seqnum \u001b[38;5;129;01min\u001b[39;00m seqnums:\n\u001b[0;32m----> 2\u001b[0m     \u001b[38;5;28;01mfor\u001b[39;00m det \u001b[38;5;129;01min\u001b[39;00m \u001b[43mdets\u001b[49m:\n\u001b[1;32m      3\u001b[0m         fits_from_calexp(seqnum, det, repofolder, folderout)\n",
      "\u001b[0;31mNameError\u001b[0m: name 'dets' is not defined"
     ]
    }
   ],
   "source": [
    "for seqnum in seqnums:\n",
    "    for det in detectors:\n",
    "        fits_from_calexp(seqnum, det, repofolder, folderout)"
   ]
  },
  {
   "cell_type": "code",
   "execution_count": null,
   "id": "fc52a6f7-c553-4145-b466-a1b00f4f3e29",
   "metadata": {},
   "outputs": [],
   "source": []
  }
 ],
 "metadata": {
  "kernelspec": {
   "display_name": "LSST",
   "language": "python",
   "name": "lsst"
  },
  "language_info": {
   "codemirror_mode": {
    "name": "ipython",
    "version": 3
   },
   "file_extension": ".py",
   "mimetype": "text/x-python",
   "name": "python",
   "nbconvert_exporter": "python",
   "pygments_lexer": "ipython3",
   "version": "3.11.7"
  }
 },
 "nbformat": 4,
 "nbformat_minor": 5
}
