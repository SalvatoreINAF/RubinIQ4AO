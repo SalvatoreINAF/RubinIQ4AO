{
 "cells": [
  {
   "cell_type": "code",
   "execution_count": 1,
   "id": "2938a827-6271-4686-819f-7976cf67a168",
   "metadata": {
    "execution": {
     "iopub.execute_input": "2024-05-27T17:35:49.535031Z",
     "iopub.status.busy": "2024-05-27T17:35:49.534729Z",
     "iopub.status.idle": "2024-05-27T17:35:50.039617Z",
     "shell.execute_reply": "2024-05-27T17:35:50.039206Z",
     "shell.execute_reply.started": "2024-05-27T17:35:49.535018Z"
    },
    "tags": []
   },
   "outputs": [],
   "source": [
    "# from collection_dictionary import collection_dictionary\n",
    "from fits_from_calexp import fits_from_calexp\n",
    "import numpy as np"
   ]
  },
  {
   "cell_type": "code",
   "execution_count": 2,
   "id": "ac2ce061-273f-45ae-bd9e-5028e3e145b3",
   "metadata": {
    "execution": {
     "iopub.execute_input": "2024-05-27T17:36:18.162475Z",
     "iopub.status.busy": "2024-05-27T17:36:18.162187Z",
     "iopub.status.idle": "2024-05-27T17:36:18.164901Z",
     "shell.execute_reply": "2024-05-27T17:36:18.164582Z",
     "shell.execute_reply.started": "2024-05-27T17:36:18.162458Z"
    }
   },
   "outputs": [],
   "source": [
    "# seqnums = [36, 37, 38, 39, 40, 41, 42, 43, 44]\n",
    "# dets = [168, 178, 188, 123, 132, 142, 152, 161, 75, 84, 94, 104, 113, 27, 36, 46, 56, 65, 0, 10, 20]\n",
    "seqnums = [107]\n",
    "detectors = [3]\n",
    "# dets = list(np.arange(189))\n",
    "repofolder = '/sdf/data/rubin/shared/image_quality/imsim/repo'\n",
    "folderout = '/sdf/data/rubin/shared/image_quality/imsim/fits_from_calexp/'"
   ]
  },
  {
   "cell_type": "code",
   "execution_count": 3,
   "id": "7a07be18-3c14-4dea-b24e-c8379fd98e05",
   "metadata": {
    "execution": {
     "iopub.execute_input": "2024-05-27T17:36:25.220098Z",
     "iopub.status.busy": "2024-05-27T17:36:25.219820Z",
     "iopub.status.idle": "2024-05-27T17:36:25.430221Z",
     "shell.execute_reply": "2024-05-27T17:36:25.429616Z",
     "shell.execute_reply.started": "2024-05-27T17:36:25.220084Z"
    }
   },
   "outputs": [
    {
     "ename": "KeyError",
     "evalue": "107",
     "output_type": "error",
     "traceback": [
      "\u001b[0;31m---------------------------------------------------------------------------\u001b[0m",
      "\u001b[0;31mKeyError\u001b[0m                                  Traceback (most recent call last)",
      "Cell \u001b[0;32mIn[3], line 3\u001b[0m\n\u001b[1;32m      1\u001b[0m \u001b[38;5;28;01mfor\u001b[39;00m seqnum \u001b[38;5;129;01min\u001b[39;00m seqnums:\n\u001b[1;32m      2\u001b[0m     \u001b[38;5;28;01mfor\u001b[39;00m det \u001b[38;5;129;01min\u001b[39;00m detectors:\n\u001b[0;32m----> 3\u001b[0m         \u001b[43mfits_from_calexp\u001b[49m\u001b[43m(\u001b[49m\u001b[43mseqnum\u001b[49m\u001b[43m,\u001b[49m\u001b[43m \u001b[49m\u001b[43mdet\u001b[49m\u001b[43m,\u001b[49m\u001b[43m \u001b[49m\u001b[43mrepofolder\u001b[49m\u001b[43m,\u001b[49m\u001b[43m \u001b[49m\u001b[43mfolderout\u001b[49m\u001b[43m)\u001b[49m\n",
      "File \u001b[0;32m/sdf/data/rubin/user/vittorio/projects/imsim_2024_03/imSim/github/RubinIQ4AO/notebooks/fits_from_calexp.py:13\u001b[0m, in \u001b[0;36mfits_from_calexp\u001b[0;34m(seqnum, det, repofolder, folderout)\u001b[0m\n\u001b[1;32m     11\u001b[0m collection_dict \u001b[38;5;241m=\u001b[39m collection_dictionary()\n\u001b[1;32m     12\u001b[0m visit_seqnum \u001b[38;5;241m=\u001b[39m \u001b[38;5;241m5023071800000\u001b[39m \u001b[38;5;241m+\u001b[39m seqnum\n\u001b[0;32m---> 13\u001b[0m collection \u001b[38;5;241m=\u001b[39m \u001b[43mcollection_dict\u001b[49m\u001b[43m[\u001b[49m\u001b[43mseqnum\u001b[49m\u001b[43m]\u001b[49m\n\u001b[1;32m     15\u001b[0m butler \u001b[38;5;241m=\u001b[39m dafButler\u001b[38;5;241m.\u001b[39mButler(repofolder, collections\u001b[38;5;241m=\u001b[39mcollection)\n\u001b[1;32m     17\u001b[0m datasetType\u001b[38;5;241m=\u001b[39m\u001b[38;5;124m'\u001b[39m\u001b[38;5;124mcalexp\u001b[39m\u001b[38;5;124m'\u001b[39m\n",
      "\u001b[0;31mKeyError\u001b[0m: 107"
     ]
    }
   ],
   "source": [
    "for seqnum in seqnums:\n",
    "    for det in detectors:\n",
    "        fits_from_calexp(seqnum, det, repofolder, folderout, visit_base = 7023071700000)"
   ]
  },
  {
   "cell_type": "code",
   "execution_count": null,
   "id": "fc52a6f7-c553-4145-b466-a1b00f4f3e29",
   "metadata": {},
   "outputs": [],
   "source": []
  }
 ],
 "metadata": {
  "kernelspec": {
   "display_name": "LSST",
   "language": "python",
   "name": "lsst"
  },
  "language_info": {
   "codemirror_mode": {
    "name": "ipython",
    "version": 3
   },
   "file_extension": ".py",
   "mimetype": "text/x-python",
   "name": "python",
   "nbconvert_exporter": "python",
   "pygments_lexer": "ipython3",
   "version": "3.11.7"
  }
 },
 "nbformat": 4,
 "nbformat_minor": 5
}
