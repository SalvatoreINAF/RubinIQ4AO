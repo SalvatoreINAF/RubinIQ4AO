{
 "cells": [
  {
   "cell_type": "code",
   "execution_count": 1,
   "id": "75f08671-b090-4a11-8477-dbf26b97dce8",
   "metadata": {
    "execution": {
     "iopub.execute_input": "2025-01-08T10:48:23.355759Z",
     "iopub.status.busy": "2025-01-08T10:48:23.355634Z",
     "iopub.status.idle": "2025-01-08T10:48:23.357856Z",
     "shell.execute_reply": "2025-01-08T10:48:23.357503Z",
     "shell.execute_reply.started": "2025-01-08T10:48:23.355745Z"
    }
   },
   "outputs": [],
   "source": [
    "# import lsst.summit.extras"
   ]
  },
  {
   "cell_type": "code",
   "execution_count": 2,
   "id": "cd79d606-fe07-4888-b618-e1f4fcbd5ed9",
   "metadata": {
    "execution": {
     "iopub.execute_input": "2025-01-08T10:48:23.358428Z",
     "iopub.status.busy": "2025-01-08T10:48:23.358284Z",
     "iopub.status.idle": "2025-01-08T10:48:23.366653Z",
     "shell.execute_reply": "2025-01-08T10:48:23.366284Z",
     "shell.execute_reply.started": "2025-01-08T10:48:23.358415Z"
    }
   },
   "outputs": [],
   "source": [
    "# lsst.summit.__file__"
   ]
  },
  {
   "cell_type": "code",
   "execution_count": 1,
   "id": "e9307715-dff6-46d5-b468-f9653f3a1870",
   "metadata": {
    "execution": {
     "iopub.execute_input": "2025-01-15T13:48:12.091082Z",
     "iopub.status.busy": "2025-01-15T13:48:12.090768Z",
     "iopub.status.idle": "2025-01-15T13:48:12.108109Z",
     "shell.execute_reply": "2025-01-15T13:48:12.107757Z",
     "shell.execute_reply.started": "2025-01-15T13:48:12.091064Z"
    }
   },
   "outputs": [],
   "source": [
    "%load_ext autoreload\n",
    "%autoreload 2"
   ]
  },
  {
   "cell_type": "code",
   "execution_count": 2,
   "id": "97d8c90b-77c4-4334-b01a-042a94c8e2ba",
   "metadata": {
    "execution": {
     "iopub.execute_input": "2025-01-15T13:48:12.245063Z",
     "iopub.status.busy": "2025-01-15T13:48:12.244905Z",
     "iopub.status.idle": "2025-01-15T13:48:14.990298Z",
     "shell.execute_reply": "2025-01-15T13:48:14.989878Z",
     "shell.execute_reply.started": "2025-01-15T13:48:12.245048Z"
    }
   },
   "outputs": [],
   "source": [
    "#from lsst.summit.extras.plotting.psfPlotting import makeAzElPlot, makeTableFromSourceCatalogs, makeFocalPlanePlot, makeEquatorialPlot\n",
    "from MYpsfPlotting import makeAzElPlot, makeTableFromSourceCatalogs, makeFocalPlanePlot, makeEquatorialPlot, makeTableFromGrid\n",
    "from lsst.afw import cameraGeom\n",
    "from lsst.obs.lsst import LsstComCam, LsstCam\n",
    "from lsst.geom import Point2D\n",
    "import matplotlib.pyplot as plt\n",
    "import pandas as pd\n",
    "import numpy as np"
   ]
  },
  {
   "cell_type": "code",
   "execution_count": 3,
   "id": "8c9984a8-0cc6-4d98-8bf9-122978100f79",
   "metadata": {
    "execution": {
     "iopub.execute_input": "2025-01-15T13:48:14.991409Z",
     "iopub.status.busy": "2025-01-15T13:48:14.990912Z",
     "iopub.status.idle": "2025-01-15T13:48:15.018656Z",
     "shell.execute_reply": "2025-01-15T13:48:15.018331Z",
     "shell.execute_reply.started": "2025-01-15T13:48:14.991394Z"
    }
   },
   "outputs": [],
   "source": [
    "from lsst.daf.butler import Butler"
   ]
  },
  {
   "cell_type": "code",
   "execution_count": 4,
   "id": "38bdce77-c05d-42cc-a372-61e9ae4618ff",
   "metadata": {
    "execution": {
     "iopub.execute_input": "2025-01-15T13:48:15.019165Z",
     "iopub.status.busy": "2025-01-15T13:48:15.019029Z",
     "iopub.status.idle": "2025-01-15T13:48:15.044117Z",
     "shell.execute_reply": "2025-01-15T13:48:15.043777Z",
     "shell.execute_reply.started": "2025-01-15T13:48:15.019153Z"
    }
   },
   "outputs": [],
   "source": [
    "def pixel_to_camera(x, y, det):\n",
    "    \"\"\"\n",
    "    Parameters\n",
    "    ----------\n",
    "    x, y : array\n",
    "        Pixel coordinates.\n",
    "    det : lsst.afw.cameraGeom.Detector\n",
    "        Detector of interest.\n",
    "    Returns\n",
    "    -------\n",
    "    cam_x, cam_y : array\n",
    "        Focal plane position in millimeters in DVCS\n",
    "        See https://lse-349.lsst.io/\n",
    "    \"\"\"\n",
    "    tx = det.getTransform(cameraGeom.PIXELS, cameraGeom.FOCAL_PLANE)\n",
    "    cam_x, cam_y = tx.getMapping().applyForward(np.vstack((x, y)))\n",
    "    return cam_x.ravel(), cam_y.ravel()"
   ]
  },
  {
   "cell_type": "markdown",
   "id": "d07fc1d2-1e4c-4b0c-876a-72fca8ff4fa8",
   "metadata": {},
   "source": [
    "Stuff to load simulations"
   ]
  },
  {
   "cell_type": "code",
   "execution_count": 5,
   "id": "72463c62-61b0-49d5-8ca4-31f2473dece5",
   "metadata": {
    "execution": {
     "iopub.execute_input": "2025-01-15T13:48:15.045028Z",
     "iopub.status.busy": "2025-01-15T13:48:15.044886Z",
     "iopub.status.idle": "2025-01-15T13:48:15.075176Z",
     "shell.execute_reply": "2025-01-15T13:48:15.074782Z",
     "shell.execute_reply.started": "2025-01-15T13:48:15.045014Z"
    }
   },
   "outputs": [],
   "source": [
    "import importlib.util\n",
    "import sys\n",
    "# sys.path.append(\"../../notebooks/\")\n",
    "# sys.path.append(\"/sdf/data/rubin/shared/image_quality/imsim/notebooks/\")                #file with convertion between seqnum and collection\n",
    "# from .sdf.data.rubin.shared.image_quality.imsim.notebooks.collection_dictionary_shared import collection_dictionary\n",
    "\n",
    "spec = importlib.util.spec_from_file_location(\"collection_dictionary_shared\", \n",
    "                                              \"/sdf/data/rubin/shared/image_quality/imsim/notebooks/collection_dictionary_shared.py\")\n",
    "collection_dictionary = importlib.util.module_from_spec(spec)\n",
    "sys.modules[\"module.name\"] = collection_dictionary\n",
    "spec.loader.exec_module(collection_dictionary)\n",
    "\n",
    "collection_dictionary = collection_dictionary.collection_dictionary\n"
   ]
  },
  {
   "cell_type": "code",
   "execution_count": 6,
   "id": "828632d8-6245-4c3b-a109-abc527f1e35b",
   "metadata": {
    "execution": {
     "iopub.execute_input": "2025-01-15T13:48:15.075659Z",
     "iopub.status.busy": "2025-01-15T13:48:15.075525Z",
     "iopub.status.idle": "2025-01-15T13:48:15.099151Z",
     "shell.execute_reply": "2025-01-15T13:48:15.098830Z",
     "shell.execute_reply.started": "2025-01-15T13:48:15.075646Z"
    }
   },
   "outputs": [],
   "source": [
    "folder = '/sdf/data/rubin/shared/image_quality/imsim/'\n",
    "#Define the butler data configuration and collection (una tantum )\n",
    "config = folder+'repo'\n",
    "seqnum_base = 5023071800000\n",
    "collection_dict = collection_dictionary()"
   ]
  },
  {
   "cell_type": "code",
   "execution_count": 7,
   "id": "24d717fc-6e77-48aa-bbca-4a2683746ad0",
   "metadata": {
    "execution": {
     "iopub.execute_input": "2025-01-15T13:48:15.099603Z",
     "iopub.status.busy": "2025-01-15T13:48:15.099487Z",
     "iopub.status.idle": "2025-01-15T13:48:15.125777Z",
     "shell.execute_reply": "2025-01-15T13:48:15.125464Z",
     "shell.execute_reply.started": "2025-01-15T13:48:15.099591Z"
    }
   },
   "outputs": [
    {
     "data": {
      "text/plain": [
       "'pipetask_output/20241112T145223Z'"
      ]
     },
     "execution_count": 7,
     "metadata": {},
     "output_type": "execute_result"
    }
   ],
   "source": [
    "seqnum = 145\n",
    "visitid_complete = seqnum+seqnum_base\n",
    "collections = collection_dict[visitid_complete]\n",
    "collections"
   ]
  },
  {
   "cell_type": "code",
   "execution_count": 8,
   "id": "cf03c66c-a6db-4282-b95f-d53ba01af0d9",
   "metadata": {
    "execution": {
     "iopub.execute_input": "2025-01-15T13:48:15.126239Z",
     "iopub.status.busy": "2025-01-15T13:48:15.126122Z",
     "iopub.status.idle": "2025-01-15T13:48:15.158582Z",
     "shell.execute_reply": "2025-01-15T13:48:15.158270Z",
     "shell.execute_reply.started": "2025-01-15T13:48:15.126228Z"
    }
   },
   "outputs": [
    {
     "data": {
      "text/plain": [
       "'pipetask_output/20241112T145223Z'"
      ]
     },
     "execution_count": 8,
     "metadata": {},
     "output_type": "execute_result"
    }
   ],
   "source": [
    "collection_dict[visitid_complete]"
   ]
  },
  {
   "cell_type": "code",
   "execution_count": 9,
   "id": "6efb189c-39b1-4782-8e97-abe83520b73b",
   "metadata": {
    "execution": {
     "iopub.execute_input": "2025-01-15T13:48:15.159099Z",
     "iopub.status.busy": "2025-01-15T13:48:15.158963Z",
     "iopub.status.idle": "2025-01-15T13:48:15.360584Z",
     "shell.execute_reply": "2025-01-15T13:48:15.360218Z",
     "shell.execute_reply.started": "2025-01-15T13:48:15.159087Z"
    }
   },
   "outputs": [],
   "source": [
    "butler = Butler(config, collections=collections)"
   ]
  },
  {
   "cell_type": "code",
   "execution_count": 10,
   "id": "0a0f5310-f8d8-445c-994f-7bcfccc151dd",
   "metadata": {
    "execution": {
     "iopub.execute_input": "2025-01-15T13:48:15.361100Z",
     "iopub.status.busy": "2025-01-15T13:48:15.360963Z",
     "iopub.status.idle": "2025-01-15T13:48:15.390285Z",
     "shell.execute_reply": "2025-01-15T13:48:15.389924Z",
     "shell.execute_reply.started": "2025-01-15T13:48:15.361088Z"
    }
   },
   "outputs": [],
   "source": [
    "# butler.collections.query_info(collections[0], include_summary=True)"
   ]
  },
  {
   "cell_type": "code",
   "execution_count": 11,
   "id": "e27913e7-7884-438b-924f-6be70b3a038c",
   "metadata": {
    "execution": {
     "iopub.execute_input": "2025-01-15T13:48:15.391509Z",
     "iopub.status.busy": "2025-01-15T13:48:15.391232Z",
     "iopub.status.idle": "2025-01-15T13:48:15.417571Z",
     "shell.execute_reply": "2025-01-15T13:48:15.417265Z",
     "shell.execute_reply.started": "2025-01-15T13:48:15.391496Z"
    }
   },
   "outputs": [],
   "source": [
    "registry = butler.registry"
   ]
  },
  {
   "cell_type": "code",
   "execution_count": 12,
   "id": "24fab087-4842-4e21-8916-95943ba73330",
   "metadata": {
    "execution": {
     "iopub.execute_input": "2025-01-15T13:48:15.418042Z",
     "iopub.status.busy": "2025-01-15T13:48:15.417914Z",
     "iopub.status.idle": "2025-01-15T13:48:15.470954Z",
     "shell.execute_reply": "2025-01-15T13:48:15.470600Z",
     "shell.execute_reply.started": "2025-01-15T13:48:15.418025Z"
    }
   },
   "outputs": [
    {
     "data": {
      "text/plain": [
       "[DatasetRef(DatasetType('icSrc', {band, instrument, detector, physical_filter, visit}, SourceCatalog), {instrument: 'LSSTCam', detector: 90, visit: 5023071800145, band: 'r', physical_filter: 'r_57'}, run='pipetask_output/20241112T145223Z', id=d33da782-559c-4844-8ea2-2391d1644e1f)]"
      ]
     },
     "execution_count": 12,
     "metadata": {},
     "output_type": "execute_result"
    }
   ],
   "source": [
    "postisr = list(registry.queryDatasets('icSrc', collections=collections, detector=90))\n",
    "postisr\n",
    "#exposure_ids = np.array([data.dataId['exposure'] for data in postisr])\n",
    "# exposure_ids"
   ]
  },
  {
   "cell_type": "code",
   "execution_count": 16,
   "id": "8e643df1-7007-481c-9d78-796a5efe6bbb",
   "metadata": {
    "execution": {
     "iopub.execute_input": "2025-01-08T10:15:54.783507Z",
     "iopub.status.busy": "2025-01-08T10:15:54.783354Z",
     "iopub.status.idle": "2025-01-08T10:15:55.043740Z",
     "shell.execute_reply": "2025-01-08T10:15:55.043174Z",
     "shell.execute_reply.started": "2025-01-08T10:15:54.783492Z"
    }
   },
   "outputs": [
    {
     "ename": "AssertionError",
     "evalue": "",
     "output_type": "error",
     "traceback": [
      "\u001b[0;31m---------------------------------------------------------------------------\u001b[0m",
      "\u001b[0;31mAssertionError\u001b[0m                            Traceback (most recent call last)",
      "Cell \u001b[0;32mIn[16], line 9\u001b[0m\n\u001b[1;32m      6\u001b[0m visit_id\u001b[38;5;241m=\u001b[39mpostisr[\u001b[38;5;241m0\u001b[39m]\u001b[38;5;241m.\u001b[39mdataId[\u001b[38;5;124m'\u001b[39m\u001b[38;5;124mvisit\u001b[39m\u001b[38;5;124m'\u001b[39m]\n\u001b[1;32m      7\u001b[0m \u001b[38;5;66;03m# visit_id=5023071800121\u001b[39;00m\n\u001b[0;32m----> 9\u001b[0m \u001b[38;5;28;01massert\u001b[39;00m \u001b[38;5;28;01mFalse\u001b[39;00m\n\u001b[1;32m     11\u001b[0m \u001b[38;5;28;01mfor\u001b[39;00m i \u001b[38;5;129;01min\u001b[39;00m \u001b[38;5;28mrange\u001b[39m(\u001b[38;5;241m189\u001b[39m):\n\u001b[1;32m     12\u001b[0m     \u001b[38;5;28;01mtry\u001b[39;00m:\n",
      "\u001b[0;31mAssertionError\u001b[0m: "
     ]
    }
   ],
   "source": [
    "# SULLE SORGENTI\n",
    "\n",
    "icSrcs = {}\n",
    "visit_id=postisr[0].dataId['visit']\n",
    "\n",
    "assert False\n",
    "\n",
    "for i in range(189):\n",
    "    try:\n",
    "        print(i)\n",
    "        icSrcs[i] = butler.get(\"icSrc\", dataId={\"visit\":visit_id, \"detector\":i})\n",
    "    except:\n",
    "        continue\n",
    "        \n",
    "visitInfo = butler.get(\"postISRCCD.visitInfo\", dataId={\"exposure\":visit_id, \"detector\":90})\n",
    "table = makeTableFromSourceCatalogs(icSrcs, visitInfo)"
   ]
  },
  {
   "cell_type": "code",
   "execution_count": 15,
   "id": "57d609c8-619c-4d3c-b679-1cd019b0fa8b",
   "metadata": {
    "execution": {
     "iopub.execute_input": "2025-01-15T13:54:09.103441Z",
     "iopub.status.busy": "2025-01-15T13:54:09.103148Z",
     "iopub.status.idle": "2025-01-15T13:54:16.260238Z",
     "shell.execute_reply": "2025-01-15T13:54:16.259770Z",
     "shell.execute_reply.started": "2025-01-15T13:54:09.103424Z"
    }
   },
   "outputs": [
    {
     "name": "stdout",
     "output_type": "stream",
     "text": [
      "sss2\n",
      "sss3\n",
      "90\n",
      "sss2\n",
      "sss3\n",
      "91\n",
      "sss2\n",
      "sss3\n",
      "92\n",
      "sss2\n",
      "sss3\n",
      "93\n",
      "sss2\n",
      "sss3\n",
      "94\n",
      "sss2\n",
      "sss3\n",
      "95\n",
      "sss2\n",
      "sss3\n",
      "96\n",
      "sss2\n",
      "sss3\n",
      "97\n",
      "sss2\n",
      "sss3\n",
      "98\n",
      "sss2\n",
      "sss3\n",
      "[<Table length=100>\n",
      "       Ixx                 Ixy         ...        nw_x               nw_y       \n",
      "     float64             float64       ...     float64[1]         float64[1]    \n",
      "------------------ ------------------- ... ------------------ ------------------\n",
      "5.0821668822067325 0.15718980192655577 ... 61.983917861125235  58.91792108166479\n",
      " 5.084728396303883 0.14737015914787954 ...  57.88890282620754  59.00774236977636\n",
      " 5.085264909636745  0.1389902386785043 ...  53.79388779128984  59.09756365788794\n",
      " 5.083777223035887 0.13205028367278138 ...  49.69887275637214  59.18738494599951\n",
      " 5.080263873779852 0.12654751559064142 ...  45.60385772145445  59.27720623411109\n",
      " 5.074724938721787 0.12247556420484945 ...  41.50884268653676  59.36702752222266\n",
      " 5.067162831007007 0.11982519429157105 ...  37.41382765161906  59.45684881033424\n",
      "5.0575776955772405 0.11858353735920041 ...  33.31881261670136  59.54667009844582\n",
      " 5.045972845642508 0.11873460370673138 ... 29.223797581783664 59.636491386557395\n",
      "               ...                 ... ...                ...                ...\n",
      " 5.116471512286825  0.1353562038623294 ...  61.19368350116704  22.89058665825315\n",
      " 5.117586717313707 0.12161758223453734 ...  57.09866846624934 22.980407946364725\n",
      " 5.116713791011111 0.10931386553238896 ...  53.00365343133164 23.070229234476304\n",
      " 5.113848605329611 0.09844650316348184 ...  48.90863839641394  23.16005052258788\n",
      " 5.108989162443529 0.08901326533621505 ... 44.813623361496255 23.249871810699457\n",
      " 5.102134040667993  0.0810082566434154 ...  40.71860832657856 23.339693098811033\n",
      "5.0932824433322486 0.07442297878114493 ...  36.62359329166086  23.42951438692261\n",
      " 5.082433443525255 0.06924521185120687 ...  32.52857825674317 23.519335675034185\n",
      " 5.069587607233974 0.06545912465432294 ...  28.43356322182547  23.60915696314576\n",
      " 5.054747859084205 0.06304687527593685 ... 24.338548186907772 23.698978251257337, <Table length=100>\n",
      "       Ixx                 Ixy         ...        nw_x               nw_y       \n",
      "     float64             float64       ...     float64[1]         float64[1]    \n",
      "------------------ ------------------- ... ------------------ ------------------\n",
      "5.0821668822067325 0.15718980192655577 ... 61.983917861125235  58.91792108166479\n",
      " 5.084728396303883 0.14737015914787954 ...  57.88890282620754  59.00774236977636\n",
      " 5.085264909636745  0.1389902386785043 ...  53.79388779128984  59.09756365788794\n",
      " 5.083777223035887 0.13205028367278138 ...  49.69887275637214  59.18738494599951\n",
      " 5.080263873779852 0.12654751559064142 ...  45.60385772145445  59.27720623411109\n",
      " 5.074724938721787 0.12247556420484945 ...  41.50884268653676  59.36702752222266\n",
      " 5.067162831007007 0.11982519429157105 ...  37.41382765161906  59.45684881033424\n",
      "5.0575776955772405 0.11858353735920041 ...  33.31881261670136  59.54667009844582\n",
      " 5.045972845642508 0.11873460370673138 ... 29.223797581783664 59.636491386557395\n",
      "               ...                 ... ...                ...                ...\n",
      " 5.116471512286825  0.1353562038623294 ...  61.19368350116704  22.89058665825315\n",
      " 5.117586717313707 0.12161758223453734 ...  57.09866846624934 22.980407946364725\n",
      " 5.116713791011111 0.10931386553238896 ...  53.00365343133164 23.070229234476304\n",
      " 5.113848605329611 0.09844650316348184 ...  48.90863839641394  23.16005052258788\n",
      " 5.108989162443529 0.08901326533621505 ... 44.813623361496255 23.249871810699457\n",
      " 5.102134040667993  0.0810082566434154 ...  40.71860832657856 23.339693098811033\n",
      "5.0932824433322486 0.07442297878114493 ...  36.62359329166086  23.42951438692261\n",
      " 5.082433443525255 0.06924521185120687 ...  32.52857825674317 23.519335675034185\n",
      " 5.069587607233974 0.06545912465432294 ...  28.43356322182547  23.60915696314576\n",
      " 5.054747859084205 0.06304687527593685 ... 24.338548186907772 23.698978251257337, <Table length=100>\n",
      "       Ixx                  Ixy          ...        nw_y       \n",
      "     float64              float64        ...     float64[1]    \n",
      "------------------ --------------------- ... ------------------\n",
      " 5.022842905424929    0.0802843389781963 ... 59.844422405569595\n",
      " 5.018125584836303   0.06919532387369322 ... 59.934243693681175\n",
      " 5.015100144114133   0.05814755471888112 ...  60.02406498179275\n",
      " 5.013778654563812   0.04714094422978564 ...  60.11388626990433\n",
      " 5.014174138818268   0.03617325987099677 ...   60.2037075580159\n",
      " 5.016295459953584   0.02524070837031322 ...  60.29352884612748\n",
      " 5.020161670122924  0.014337576395265332 ...  60.38335013423905\n",
      " 5.025784130536293  0.003456208083437358 ...  60.47317142235063\n",
      " 5.033182376135289 -0.007412768178244124 ... 60.562992710462204\n",
      "               ...                   ... ...                ...\n",
      " 5.097025956210933   0.05791125138607094 ...  23.81708798215796\n",
      " 5.086535723976534       0.0506547079546 ... 23.906909270269537\n",
      " 5.077771632247997    0.0434913874157669 ... 23.996730558381113\n",
      " 5.070729032929881   0.03642643939788278 ...  24.08655184649269\n",
      "5.0653934592604815   0.02945607181102868 ... 24.176373134604265\n",
      " 5.061809766660761  0.022597724599320676 ...  24.26619442271584\n",
      " 5.059957049533882  0.015843068148463865 ...  24.35601571082742\n",
      " 5.059840158821751  0.009189797193404977 ... 24.445836998938997\n",
      " 5.061466692242684  0.002633837773097437 ... 24.535658287050573\n",
      " 5.064841718504786 -0.003831207247700956 ...  24.62547957516215, <Table length=100>\n",
      "       Ixx                  Ixy           ...        nw_y       \n",
      "     float64              float64         ...     float64[1]    \n",
      "------------------ ---------------------- ... ------------------\n",
      " 5.003653378995908     0.0357570723849227 ... 60.770923729474404\n",
      " 5.004344143492267   0.027130109041541686 ... 60.860745017585984\n",
      " 5.005763970351993   0.017758698457304423 ... 60.950566305697556\n",
      "  5.00791892251651   0.007632993278783606 ... 61.040387593809136\n",
      " 5.010811817087183 -0.0032589663857350033 ...  61.13020888192071\n",
      "5.0144519925432816  -0.014929258420602831 ...  61.22003017003229\n",
      " 5.018844131609189  -0.027391400416307176 ...  61.30985145814387\n",
      " 5.023996537929652   -0.04065970364472503 ...  61.39967274625544\n",
      " 5.029918969405219   -0.05475053543133734 ...  61.48949403436702\n",
      "               ...                    ... ...                ...\n",
      " 5.086191480472542   0.010029368065142763 ... 24.743589306062773\n",
      " 5.080763983249842   0.009808049819249149 ...  24.83341059417435\n",
      "  5.07592439156457   0.008823939237379943 ... 24.923231882285926\n",
      " 5.071897551452565   0.007155379113740002 ...   25.0130531703975\n",
      " 5.068545853817559   0.004749784463799993 ... 25.102874458509078\n",
      " 5.065891234649471  0.0016028820515065433 ... 25.192695746620654\n",
      " 5.063939807905091 -0.0022929844650259987 ...  25.28251703473223\n",
      "5.0626957442385585  -0.006946265269336265 ... 25.372338322843806\n",
      " 5.062170478511185  -0.012366346575345612 ... 25.462159610955382\n",
      " 5.062369770069848   -0.01856432742244656 ...  25.55198089906696, <Table length=100>\n",
      "       Ixx                 Ixy          ...         nw_y       \n",
      "     float64             float64        ...      float64[1]    \n",
      "------------------ -------------------- ... -------------------\n",
      " 5.149580761640297  0.08845092770561631 ...   16.67808093877596\n",
      " 5.141462569361649   0.0897477165579884 ...  16.767902226887536\n",
      " 5.134114533887254  0.09030298827248265 ...  16.857723514999115\n",
      " 5.127458510804005  0.09015421153400972 ...   16.94754480311069\n",
      " 5.121532768254179  0.08929951121855345 ...  17.037366091222268\n",
      " 5.116330583393476   0.0877481354300817 ...  17.127187379333844\n",
      "5.1118502225170515  0.08550837802401419 ...   17.21700866744542\n",
      " 5.108092569919061  0.08258831444783399 ...  17.306829955556996\n",
      " 5.105058748335307  0.07899482757907356 ...  17.396651243668572\n",
      "               ...                  ... ...                 ...\n",
      " 5.146682382410387  0.08412856539054928 ...  -19.34925348463568\n",
      " 5.142393238127442   0.0809847815573622 ... -19.259432196524102\n",
      " 5.138809287210122  0.07714099922888115 ... -19.169610908412523\n",
      " 5.135993882754157  0.07258511594312154 ... -19.079789620300946\n",
      " 5.133899101102461  0.06734392877397387 ...  -18.98996833218937\n",
      " 5.132511291095999 0.061434386377696146 ... -18.900147044077794\n",
      " 5.131864118715833 0.054854172167874485 ...  -18.81032575596622\n",
      " 5.131948598350514  0.04761553309023288 ... -18.720504467854642\n",
      "5.1327695997995235  0.03972604304821944 ... -18.630683179743066\n",
      " 5.134330625264879  0.03119353289531598 ...  -18.54086189163149, <Table length=100>\n",
      "       Ixx                  Ixy          ...         nw_y       \n",
      "     float64              float64        ...      float64[1]    \n",
      "------------------ --------------------- ... -------------------\n",
      " 5.067724155441003   0.08635197681651696 ...  17.604582262680772\n",
      " 5.069283875160417   0.07677918975269803 ...  17.694403550792348\n",
      " 5.070481495131521   0.06771364850436265 ...  17.784224838903924\n",
      "5.0713184213252225   0.05915438824949712 ...    17.8740461270155\n",
      " 5.071796423435227   0.05110017563306694 ...  17.963867415127076\n",
      " 5.071912263825279   0.04354861483652798 ...  18.053688703238652\n",
      " 5.071665394194153  0.036497428653855135 ...  18.143509991350232\n",
      "5.0710510483479565  0.029943065628077633 ...  18.233331279461808\n",
      " 5.070077933935643  0.023887345213052146 ...  18.323152567573384\n",
      "               ...                   ... ...                 ...\n",
      " 5.105062449522359  0.054033928637351625 ... -18.422752160730866\n",
      "5.1056474187540495  0.046002931803065555 ...  -18.33293087261929\n",
      " 5.105867138498416    0.0384527130006898 ... -18.243109584507714\n",
      " 5.105728273674891   0.03138495715973098 ... -18.153288296396138\n",
      " 5.105234699720048  0.024800562543936706 ...  -18.06346700828456\n",
      " 5.104389069305947  0.018700067964946655 ... -17.973645720172986\n",
      " 5.103195148959512  0.013083695799815305 ... -17.883824432061406\n",
      " 5.101651614348914  0.007950743780524792 ...  -17.79400314394983\n",
      " 5.099754402177355   0.00330015631772791 ... -17.704181855838254\n",
      " 5.097482799418858 -0.000898394616775639 ... -17.614360567726678, <Table length=100>\n",
      "       Ixx                  Ixy          ...         nw_y       \n",
      "     float64              float64        ...      float64[1]    \n",
      "------------------ --------------------- ... -------------------\n",
      " 5.061243962397927 -0.006506287913733184 ...   18.53108358658558\n",
      " 5.056307695940204 -0.010896189973355347 ...   18.62090487469716\n",
      " 5.053626682051813 -0.015251830180568879 ...  18.710726162808736\n",
      " 5.053208032645659 -0.019573121960750905 ...  18.800547450920313\n",
      " 5.055058020769696  -0.02386023502488838 ...   18.89036873903189\n",
      "5.0591852011950165 -0.028113773800246804 ...  18.980190027143465\n",
      " 5.065661931134447  -0.03236334667872402 ...   19.07001131525504\n",
      "5.0743757924217485  -0.03655808229002649 ...  19.159832603366617\n",
      " 5.085384417924903  -0.04072428342325609 ...  19.249653891478193\n",
      "               ...                   ... ...                 ...\n",
      " 5.112550053856179 -0.023929839573162758 ... -17.496250836826057\n",
      " 5.099516700659486 -0.028500982507703904 ... -17.406429548714478\n",
      " 5.088693403411083 -0.033046309343688136 ...   -17.3166082606029\n",
      " 5.080102944312217  -0.03755745440617629 ... -17.226786972491325\n",
      " 5.073759105874334 -0.042031968312790095 ...  -17.13696568437975\n",
      " 5.069673942943989  -0.04646783519462879 ... -17.047144396268173\n",
      " 5.067859171978849  -0.05086337403681575 ... -16.957323108156597\n",
      " 5.068328655732859 -0.055217444591862105 ...  -16.86750182004502\n",
      " 5.071091664374328 -0.059529525677408573 ... -16.777680531933445\n",
      " 5.076160619523754  -0.06379904888700377 ...  -16.68785924382187, <Table length=100>\n",
      "       Ixx                Ixy          ...         nw_y       \n",
      "     float64            float64        ...      float64[1]    \n",
      "----------------- -------------------- ... -------------------\n",
      "5.127877169713517   0.0810942174943256 ... -25.561759204112867\n",
      "5.129029946056227  0.07693491175590497 ...  -25.47193791600129\n",
      " 5.12933236039485  0.07254975290719548 ...  -25.38211662788971\n",
      "5.128786533093344  0.06793611470172958 ... -25.292295339778136\n",
      "5.127397854037653  0.06309155575376296 ...  -25.20247405166656\n",
      " 5.12516952358062  0.05801579148059846 ... -25.112652763554983\n",
      "5.122101734865683  0.05270952763869974 ... -25.022831475443407\n",
      "5.118200264577309  0.04717406846021028 ...  -24.93301018733183\n",
      "5.113467871327763  0.04141261995858263 ... -24.843188899220255\n",
      "              ...                  ... ...                 ...\n",
      "5.112175534656734 0.045336152786317384 ... -61.589093627524505\n",
      "5.112439886295207  0.04370506150564667 ...  -61.49927233941293\n",
      "5.111846687517098  0.04178753515994006 ...  -61.40945105130135\n",
      "  5.1104013077001  0.03961251072054115 ...  -61.31962976318978\n",
      "5.108105490193745 0.037160812474851646 ...   -61.2298084750782\n",
      "5.104960609527289 0.034431368683930215 ...  -61.13998718696663\n",
      "5.100971313999287 0.031424504041116394 ...  -61.05016589885505\n",
      "5.096085708247602  0.02812124393803747 ...  -60.96034461074347\n",
      "5.090448586026697 0.024576483009871076 ...   -60.8705233226319\n",
      "5.083973977669679  0.02076461967471631 ...  -60.78070203452032, <Table length=100>\n",
      "       Ixx                  Ixy           ...         nw_y       \n",
      "     float64              float64         ...      float64[1]    \n",
      "------------------ ---------------------- ... -------------------\n",
      " 5.144250754579594   0.013771331520259975 ... -24.635257880208055\n",
      " 5.133436952880575   0.013848470317632948 ...  -24.54543659209648\n",
      " 5.123983788665486   0.012908404510681645 ... -24.455615303984903\n",
      "5.1158738774255905   0.010958666729722333 ... -24.365794015873327\n",
      " 5.109090311106244   0.008006559829292721 ...  -24.27597272776175\n",
      " 5.103622026586685    0.00405842885569343 ... -24.186151439650175\n",
      "5.0994024707493635 -0.0009032038901606693 ... -24.096330151538595\n",
      " 5.096544822233253  -0.006829962977035242 ...  -24.00650886342702\n",
      " 5.094979702786516   -0.01373770007185244 ... -23.916687575315443\n",
      "               ...                    ... ...                 ...\n",
      "5.1028102446800485    0.00764050149486013 ...   -60.6625923036197\n",
      " 5.095571154058341   0.005570927808154057 ...  -60.57277101550812\n",
      " 5.089674290865714  0.0024649146817597952 ... -60.482949727396544\n",
      " 5.085106702640621 -0.0016729876590652671 ... -60.393128439284965\n",
      " 5.081857863000537  -0.006838233067994982 ...  -60.30330715117339\n",
      " 5.079918821943088  -0.013027168550249442 ...  -60.21348586306181\n",
      " 5.079285973845917  -0.020236746912917547 ...  -60.12366457495024\n",
      " 5.079957903225843  -0.028464382666845953 ...  -60.03384328683866\n",
      " 5.081937629429442   -0.03770810344529849 ...  -59.94402199872709\n",
      " 5.085228708245026  -0.047966779552553615 ...  -59.85420071061551, <Table length=100>\n",
      "       Ixx                  Ixy          ...         nw_y       \n",
      "     float64              float64        ...      float64[1]    \n",
      "------------------ --------------------- ... -------------------\n",
      " 5.104871712882553 -0.038111915947903925 ... -23.708756556303243\n",
      " 5.100481648032931  -0.03866746913875827 ... -23.618935268191667\n",
      "  5.09748166523474  -0.03928145854061634 ...  -23.52911398008009\n",
      " 5.095866781950388  -0.03994577941405932 ... -23.439292691968515\n",
      " 5.095635857950411  -0.04065545026582387 ...  -23.34947140385694\n",
      " 5.096794666798805  -0.04140708786798963 ... -23.259650115745362\n",
      " 5.099355943307891  -0.04220009802114389 ... -23.169828827633786\n",
      " 5.103338671104371  -0.04303544656507647 ...  -23.08000753952221\n",
      "5.1087682171993904  -0.04391666631749662 ... -22.990186251410634\n",
      "               ...                   ... ...                 ...\n",
      " 5.077832414885468  -0.04043518782036455 ...  -59.73609097971489\n",
      " 5.067928804320976 -0.047075946045628855 ...  -59.64626969160331\n",
      " 5.059371530111566  -0.05376706386953758 ... -59.556448403491736\n",
      " 5.052149626880961  -0.06050971695055797 ... -59.466627115380156\n",
      " 5.046260296269472  -0.06730737775010164 ...  -59.37680582726858\n",
      " 5.041690279065523  -0.07418090291664528 ... -59.286984539157004\n",
      "5.0384795958192425  -0.08110933202628277 ... -59.197163251045424\n",
      " 5.036630039684643  -0.08810451226265488 ...  -59.10734196293385\n",
      " 5.036164847565785  -0.09519097455087931 ...  -59.01752067482227\n",
      " 5.037109121088206  -0.10237864698715375 ...   -58.9276993867107]\n"
     ]
    }
   ],
   "source": [
    "# SU GRIGLIA\n",
    "\n",
    "calexps = {}\n",
    "psfs = {}\n",
    "table_grids= []\n",
    "visit_id=postisr[0].dataId['visit']\n",
    "n_grid = 10\n",
    "\n",
    "visitInfo = butler.get(\"postISRCCD.visitInfo\", dataId={\"exposure\":visit_id, \"detector\":90})\n",
    "calexp = butler.get('calexp', dataId={\"visit\":visit_id, \"detector\":90})\n",
    "psf = calexp.getPsf()\n",
    "table_grid = makeTableFromGrid(n_grid, calexp, psf, visitInfo)\n",
    "table_grids.append(table_grid)\n",
    "\n",
    "for i in range(90, 99, 1):\n",
    "    print(i)\n",
    "    visitInfo = butler.get(\"postISRCCD.visitInfo\", dataId={\"exposure\":visit_id, \"detector\":i})\n",
    "    calexp = butler.get('calexp', dataId={\"visit\":visit_id, \"detector\":i})\n",
    "    psf = calexp.getPsf()\n",
    "    table_grid = makeTableFromGrid(n_grid, calexp, psf, visitInfo)\n",
    "    table_grids.append(table_grid)\n",
    "    del calexp\n",
    "\n",
    "print(table_grids)"
   ]
  },
  {
   "cell_type": "code",
   "execution_count": null,
   "id": "bc0897a0-9451-44a9-ad19-0647794ba8ee",
   "metadata": {
    "execution": {
     "iopub.status.busy": "2025-01-08T09:19:57.288206Z",
     "iopub.status.idle": "2025-01-08T09:19:57.288496Z",
     "shell.execute_reply": "2025-01-08T09:19:57.288415Z",
     "shell.execute_reply.started": "2025-01-08T09:19:57.288406Z"
    }
   },
   "outputs": [],
   "source": [
    "#table.columns\n",
    "table.info\n",
    "#table['nw_x'], table['nw_y']\n",
    "#table_sel = table['nw_x', 'nw_y']\n",
    "#table_sel"
   ]
  },
  {
   "cell_type": "code",
   "execution_count": null,
   "id": "c96ed8d6-676b-4fe2-a6dd-b38b7d3bc460",
   "metadata": {
    "execution": {
     "iopub.status.busy": "2025-01-08T09:07:42.374808Z",
     "iopub.status.idle": "2025-01-08T09:07:42.374983Z",
     "shell.execute_reply": "2025-01-08T09:07:42.374898Z",
     "shell.execute_reply.started": "2025-01-08T09:07:42.374890Z"
    }
   },
   "outputs": [],
   "source": [
    "camera = LsstCam().getCamera()"
   ]
  },
  {
   "cell_type": "code",
   "execution_count": null,
   "id": "a0327361-5b2b-4e5f-8404-d88864dd6944",
   "metadata": {
    "execution": {
     "iopub.status.busy": "2025-01-08T09:07:42.375513Z",
     "iopub.status.idle": "2025-01-08T09:07:42.375666Z",
     "shell.execute_reply": "2025-01-08T09:07:42.375595Z",
     "shell.execute_reply.started": "2025-01-08T09:07:42.375588Z"
    }
   },
   "outputs": [],
   "source": [
    "#camera"
   ]
  },
  {
   "cell_type": "markdown",
   "id": "e3b45b92-47e1-4b9c-b5ae-fe5863ecda39",
   "metadata": {},
   "source": [
    "ORGINAL for Rubin TV"
   ]
  },
  {
   "cell_type": "code",
   "execution_count": null,
   "id": "64f80753-a73b-4da9-b756-78eebc19297d",
   "metadata": {
    "execution": {
     "iopub.status.busy": "2025-01-08T09:07:42.376068Z",
     "iopub.status.idle": "2025-01-08T09:07:42.376222Z",
     "shell.execute_reply": "2025-01-08T09:07:42.376151Z",
     "shell.execute_reply.started": "2025-01-08T09:07:42.376144Z"
    }
   },
   "outputs": [],
   "source": [
    "# butler = Butler(\n",
    "#     \"embargo\", \n",
    "#     # collections=[\"LSSTComCam/quickLook\"], \n",
    "#     collections=[\"LSSTComCam/nightlyValidation\"], \n",
    "#     instrument=\"LSSTComCam\"\n",
    "# )\n",
    "# camera = LsstComCam().getCamera()"
   ]
  },
  {
   "cell_type": "code",
   "execution_count": null,
   "id": "25adc37e-61e3-4255-9f8f-9c941e3eedf7",
   "metadata": {
    "execution": {
     "iopub.status.busy": "2025-01-08T09:07:42.376748Z",
     "iopub.status.idle": "2025-01-08T09:07:42.376911Z",
     "shell.execute_reply": "2025-01-08T09:07:42.376837Z",
     "shell.execute_reply.started": "2025-01-08T09:07:42.376829Z"
    }
   },
   "outputs": [],
   "source": [
    "# dayObs = 20241106 #20241029 #20241028\n",
    "# seqNum = 251      #33       #10\n",
    "# visit_id = int(f\"{dayObs}{seqNum:05d}\")"
   ]
  },
  {
   "cell_type": "code",
   "execution_count": null,
   "id": "73bd94b5-7c8c-4537-a9a5-2bcdf1f8e959",
   "metadata": {
    "execution": {
     "iopub.status.busy": "2025-01-08T09:07:42.377305Z",
     "iopub.status.idle": "2025-01-08T09:07:42.377550Z",
     "shell.execute_reply": "2025-01-08T09:07:42.377437Z",
     "shell.execute_reply.started": "2025-01-08T09:07:42.377427Z"
    }
   },
   "outputs": [],
   "source": [
    "# icSrcs = {}\n",
    "# for i in range(9):\n",
    "#     icSrcs[i] = butler.get(\"icSrc\", dataId={\"visit\":visit_id, \"detector\":i})\n",
    "# visitInfo = butler.get(\"postISRCCD.visitInfo\", dataId={\"exposure\":visit_id, \"detector\":4})\n",
    "# table = makeTableFromSourceCatalogs(icSrcs, visitInfo)"
   ]
  },
  {
   "cell_type": "code",
   "execution_count": null,
   "id": "ef1717bc-9291-4d9a-be9e-8af06071cb0f",
   "metadata": {
    "execution": {
     "iopub.status.busy": "2025-01-08T09:07:42.378156Z",
     "iopub.status.idle": "2025-01-08T09:07:42.378390Z",
     "shell.execute_reply": "2025-01-08T09:07:42.378301Z",
     "shell.execute_reply.started": "2025-01-08T09:07:42.378294Z"
    }
   },
   "outputs": [],
   "source": [
    "#fa figura e tabella\n",
    "fig, axes = plt.subplots(nrows=2, ncols=2, figsize=(10, 9), sharex=True, sharey=True)\n",
    "makeAzElPlot(fig, axes, table, camera,saveTableAs=\"ellipticity_wJosh_imsim145_ccd90.csv\")\n",
    "plt.show()"
   ]
  },
  {
   "cell_type": "code",
   "execution_count": null,
   "id": "1f0ad9d2-ce0d-447c-b911-a9d15124d4dd",
   "metadata": {
    "execution": {
     "iopub.status.busy": "2025-01-08T09:07:42.378727Z",
     "iopub.status.idle": "2025-01-08T09:07:42.378879Z",
     "shell.execute_reply": "2025-01-08T09:07:42.378811Z",
     "shell.execute_reply.started": "2025-01-08T09:07:42.378801Z"
    }
   },
   "outputs": [],
   "source": [
    "# fig, axes = plt.subplots(nrows=2, ncols=2, figsize=(10, 9), sharex=True, sharey=True)\n",
    "# makeFocalPlanePlot(fig, axes, table, camera)\n",
    "# plt.show()"
   ]
  },
  {
   "cell_type": "code",
   "execution_count": 341,
   "id": "bea1df79-feb6-4893-962d-a1757823e6b8",
   "metadata": {
    "execution": {
     "iopub.execute_input": "2024-11-18T15:19:56.340396Z",
     "iopub.status.busy": "2024-11-18T15:19:56.339997Z",
     "iopub.status.idle": "2024-11-18T15:19:56.374496Z",
     "shell.execute_reply": "2024-11-18T15:19:56.374108Z",
     "shell.execute_reply.started": "2024-11-18T15:19:56.340374Z"
    }
   },
   "outputs": [],
   "source": [
    "# fig, axes = plt.subplots(nrows=2, ncols=2, figsize=(10, 9), sharex=True, sharey=True)\n",
    "# makeEquatorialPlot(fig, axes, table, camera)\n",
    "# plt.show()"
   ]
  },
  {
   "cell_type": "code",
   "execution_count": null,
   "id": "c8403f35-9221-449c-9d6d-23e3ca9075ed",
   "metadata": {},
   "outputs": [],
   "source": []
  },
  {
   "cell_type": "code",
   "execution_count": null,
   "id": "dd673548-2bbb-44dc-b72c-7bf40f527b5a",
   "metadata": {},
   "outputs": [],
   "source": []
  },
  {
   "cell_type": "code",
   "execution_count": null,
   "id": "6a2e51df-1cf6-4bb5-8bd8-31332c3923f8",
   "metadata": {},
   "outputs": [],
   "source": []
  },
  {
   "cell_type": "code",
   "execution_count": null,
   "id": "bf05d540-0055-4b58-8729-764ee98c0366",
   "metadata": {},
   "outputs": [],
   "source": []
  },
  {
   "cell_type": "code",
   "execution_count": null,
   "id": "135bfbf0-0a68-4dd4-b04e-aefcb4e75f8b",
   "metadata": {},
   "outputs": [],
   "source": []
  }
 ],
 "metadata": {
  "kernelspec": {
   "display_name": "LSST",
   "language": "python",
   "name": "lsst"
  },
  "language_info": {
   "codemirror_mode": {
    "name": "ipython",
    "version": 3
   },
   "file_extension": ".py",
   "mimetype": "text/x-python",
   "name": "python",
   "nbconvert_exporter": "python",
   "pygments_lexer": "ipython3",
   "version": "3.11.9"
  }
 },
 "nbformat": 4,
 "nbformat_minor": 5
}
